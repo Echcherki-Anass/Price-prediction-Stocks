{
 "cells": [
  {
   "cell_type": "code",
   "execution_count": 3,
   "metadata": {},
   "outputs": [
    {
     "data": {
      "text/html": [
       "        <script type=\"text/javascript\">\n",
       "        window.PlotlyConfig = {MathJaxConfig: 'local'};\n",
       "        if (window.MathJax) {MathJax.Hub.Config({SVG: {font: \"STIX-Web\"}});}\n",
       "        if (typeof require !== 'undefined') {\n",
       "        require.undef(\"plotly\");\n",
       "        requirejs.config({\n",
       "            paths: {\n",
       "                'plotly': ['https://cdn.plot.ly/plotly-latest.min']\n",
       "            }\n",
       "        });\n",
       "        require(['plotly'], function(Plotly) {\n",
       "            window._Plotly = Plotly;\n",
       "        });\n",
       "        }\n",
       "        </script>\n",
       "        "
      ]
     },
     "metadata": {},
     "output_type": "display_data"
    }
   ],
   "source": [
    "# Provides ways to work with large multidimensional arrays\n",
    "import numpy as np \n",
    "# Allows for further data manipulation and analysis\n",
    "import pandas as pd \n",
    "import matplotlib.pyplot as plt # Plotting\n",
    "import matplotlib.dates as mdates # Styling dates\n",
    "%matplotlib inline\n",
    "\n",
    "# pip install numpy\n",
    "# conda install -c anaconda pandas\n",
    "# conda install -c conda-forge matplotlib\n",
    "\n",
    "import datetime as dt # For defining dates\n",
    "\n",
    "import time\n",
    "\n",
    "# In Powershell Prompt : conda install -c conda-forge multitasking\n",
    "# pip install -i https://pypi.anaconda.org/ranaroussi/simple yfinance\n",
    "\n",
    "import yfinance as yf\n",
    "\n",
    "# To show all your output File -> Preferences -> Settings Search for Notebook\n",
    "# Notebook Output Text Line Limit and set to 100\n",
    "\n",
    "# Used for file handling like deleting files\n",
    "import os\n",
    "# conda install -c conda-forge cufflinks-py\n",
    "# conda install -c plotly plotly\n",
    "#import cufflinks as cf\n",
    "import plotly.express as px\n",
    "import plotly.graph_objects as go\n",
    "\n",
    "# Make Plotly work in your Jupyter Notebook\n",
    "from plotly.offline import download_plotlyjs, init_notebook_mode, plot, iplot\n",
    "init_notebook_mode(connected=True)\n",
    "# Use Plotly locally\n",
    "#cf.go_offline()\n",
    "\n",
    "from plotly.subplots import make_subplots\n",
    "\n",
    "# New Imports\n",
    "# Used to get data from a directory\n",
    "import os\n",
    "from os import listdir\n",
    "from os.path import isfile, join\n",
    "\n",
    "import warnings\n",
    "warnings.simplefilter(\"ignore\")"
   ]
  },
  {
   "cell_type": "code",
   "execution_count": 4,
   "metadata": {},
   "outputs": [],
   "source": [
    "Euronext= pd.read_csv('Euronext.csv', encoding = 'unicode_escape')\n",
    "EuronextParis = Euronext[Euronext.Exchange == 'Euronext Paris']\n",
    "EuronextParis=EuronextParis.dropna()\n",
    "EuronextParisSample = EuronextParis.sample(n=16)\n",
    "EuronextParisSample.to_csv(\"EuronextParisSample.csv\")"
   ]
  },
  {
   "cell_type": "code",
   "execution_count": 10,
   "metadata": {},
   "outputs": [],
   "source": [
    "PATH = \"C:/Users/ANASS ECHCHERKI/Desktop/Projets/Price prediction Stocks/Data/\"\n",
    "\n",
    "# Start end date defaults\n",
    "S_DATE = \"2017-02-01\"\n",
    "E_DATE = \"2022-12-06\"\n",
    "S_DATE_DT = pd.to_datetime(S_DATE)\n",
    "E_DATE_DT = pd.to_datetime(E_DATE)"
   ]
  },
  {
   "cell_type": "code",
   "execution_count": 7,
   "metadata": {},
   "outputs": [],
   "source": [
    "def get_info_on_stock(ticker):\n",
    "    stock = yf.Ticker(ticker)\n",
    "\n",
    "    # Get overview of company\n",
    "    print(stock.info)\n",
    "\n",
    "    # Get historical closing price data\n",
    "    hist = stock.history(period=\"max\")[\"Close\"]\n",
    "    print(hist.head())\n",
    "\n",
    "    # Get financial data\n",
    "    print(stock.financials)\n",
    "\n",
    "    # Get major share holders\n",
    "    print(stock.major_holders)\n",
    "\n",
    "    # Get institutional holders\n",
    "    print(stock.institutional_holders)\n",
    "\n",
    "    # Get balance sheet\n",
    "    print(stock.balance_sheet)\n",
    "\n",
    "    # Show cashflow\n",
    "    print(stock.cashflow)\n",
    "\n",
    "    # Show earnings\n",
    "    print(stock.earnings)\n",
    "\n",
    "    # Show analysts recommendations\n",
    "    print(stock.recommendations)"
   ]
  },
  {
   "cell_type": "code",
   "execution_count": 8,
   "metadata": {},
   "outputs": [],
   "source": [
    "def get_column_from_csv(file, col_name):\n",
    "    # Try to get the file and if it doesn't exist issue a warning\n",
    "    try:\n",
    "        df = pd.read_csv(file)\n",
    "    except FileNotFoundError:\n",
    "        print(\"File Doesn't Exist\")\n",
    "    else:\n",
    "        return df[col_name]"
   ]
  },
  {
   "cell_type": "code",
   "execution_count": 11,
   "metadata": {},
   "outputs": [
    {
     "name": "stdout",
     "output_type": "stream",
     "text": [
      "16\n"
     ]
    }
   ],
   "source": [
    "tickers = get_column_from_csv(\"C:/Users/ANASS ECHCHERKI/Desktop/Projets/Price prediction Stocks/EuronextParisSample.csv\", \"Ticker\")\n",
    "print(len(tickers))"
   ]
  },
  {
   "cell_type": "code",
   "execution_count": 12,
   "metadata": {},
   "outputs": [],
   "source": [
    "# Function that gets a dataframe by providing a ticker and starting date\n",
    "def save_to_csv_from_yahoo(folder, ticker):\n",
    "    stock = yf.Ticker(ticker)\n",
    "    \n",
    "    try:\n",
    "        print(\"Get Data for : \", ticker)\n",
    "        # Get historical closing price data\n",
    "        df = stock.history(period=\"5y\")\n",
    "    \n",
    "        # Wait 2 seconds\n",
    "        time.sleep(2)\n",
    "        \n",
    "        # Remove the period for saving the file name\n",
    "        # Save data to a CSV file\n",
    "        # File to save to \n",
    "        the_file = folder + ticker.replace(\".\", \"_\") + '.csv'\n",
    "        print(the_file, \" Saved\")\n",
    "        df.to_csv(the_file)\n",
    "    except Exception as ex:\n",
    "        print(\"Couldn't Get Data for :\", ticker)"
   ]
  },
  {
   "cell_type": "code",
   "execution_count": 14,
   "metadata": {},
   "outputs": [
    {
     "name": "stdout",
     "output_type": "stream",
     "text": [
      "Get Data for :  2MX.PA\n",
      "C:/Users/ANASS ECHCHERKI/Desktop/Projets/Price prediction Stocks/Data/2MX_PA.csv  Saved\n",
      "Finished\n",
      "Get Data for :  FII.PA\n",
      "C:/Users/ANASS ECHCHERKI/Desktop/Projets/Price prediction Stocks/Data/FII_PA.csv  Saved\n",
      "Finished\n",
      "Get Data for :  ADOC.PA\n",
      "C:/Users/ANASS ECHCHERKI/Desktop/Projets/Price prediction Stocks/Data/ADOC_PA.csv  Saved\n",
      "Finished\n",
      "Get Data for :  BERR.PA\n",
      "C:/Users/ANASS ECHCHERKI/Desktop/Projets/Price prediction Stocks/Data/BERR_PA.csv  Saved\n",
      "Finished\n",
      "Get Data for :  TECBS.PA\n",
      "C:/Users/ANASS ECHCHERKI/Desktop/Projets/Price prediction Stocks/Data/TECBS_PA.csv  Saved\n",
      "Finished\n",
      "Get Data for :  PCA.PA\n",
      "C:/Users/ANASS ECHCHERKI/Desktop/Projets/Price prediction Stocks/Data/PCA_PA.csv  Saved\n",
      "Finished\n",
      "Get Data for :  SAVE.PA\n",
      "C:/Users/ANASS ECHCHERKI/Desktop/Projets/Price prediction Stocks/Data/SAVE_PA.csv  Saved\n",
      "Finished\n",
      "Get Data for :  RF.PA\n",
      "C:/Users/ANASS ECHCHERKI/Desktop/Projets/Price prediction Stocks/Data/RF_PA.csv  Saved\n",
      "Finished\n",
      "Get Data for :  HOLN.PA\n",
      "C:/Users/ANASS ECHCHERKI/Desktop/Projets/Price prediction Stocks/Data/HOLN_PA.csv  Saved\n",
      "Finished\n",
      "Get Data for :  ADP.PA\n",
      "C:/Users/ANASS ECHCHERKI/Desktop/Projets/Price prediction Stocks/Data/ADP_PA.csv  Saved\n",
      "Finished\n",
      "Get Data for :  MRN.PA\n",
      "C:/Users/ANASS ECHCHERKI/Desktop/Projets/Price prediction Stocks/Data/MRN_PA.csv  Saved\n",
      "Finished\n",
      "Get Data for :  GJAJ.PA\n",
      "C:/Users/ANASS ECHCHERKI/Desktop/Projets/Price prediction Stocks/Data/GJAJ_PA.csv  Saved\n",
      "Finished\n",
      "Get Data for :  PWG.PA\n",
      "C:/Users/ANASS ECHCHERKI/Desktop/Projets/Price prediction Stocks/Data/PWG_PA.csv  Saved\n",
      "Finished\n",
      "Get Data for :  NEOEN.PA\n",
      "C:/Users/ANASS ECHCHERKI/Desktop/Projets/Price prediction Stocks/Data/NEOEN_PA.csv  Saved\n",
      "Finished\n",
      "Get Data for :  BOL.PA\n",
      "C:/Users/ANASS ECHCHERKI/Desktop/Projets/Price prediction Stocks/Data/BOL_PA.csv  Saved\n",
      "Finished\n",
      "Get Data for :  LTA.PA\n",
      "C:/Users/ANASS ECHCHERKI/Desktop/Projets/Price prediction Stocks/Data/LTA_PA.csv  Saved\n",
      "Finished\n"
     ]
    }
   ],
   "source": [
    "for x in range(0, 16):\n",
    "    save_to_csv_from_yahoo(PATH, tickers[x])\n",
    "    print(\"Finished\")"
   ]
  },
  {
   "cell_type": "code",
   "execution_count": null,
   "metadata": {},
   "outputs": [],
   "source": [
    "#test to verify"
   ]
  }
 ],
 "metadata": {
  "interpreter": {
   "hash": "2be5faf79681da6f2a61fdfdd5405d65d042280f7fba6178067603e3a2925119"
  },
  "kernelspec": {
   "display_name": "Python 3",
   "language": "python",
   "name": "python3"
  },
  "language_info": {
   "codemirror_mode": {
    "name": "ipython",
    "version": 3
   },
   "file_extension": ".py",
   "mimetype": "text/x-python",
   "name": "python",
   "nbconvert_exporter": "python",
   "pygments_lexer": "ipython3",
   "version": "3.10.2"
  }
 },
 "nbformat": 4,
 "nbformat_minor": 2
}
