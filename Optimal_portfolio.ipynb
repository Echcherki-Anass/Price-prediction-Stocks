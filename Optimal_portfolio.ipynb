{
  "nbformat": 4,
  "nbformat_minor": 0,
  "metadata": {
    "colab": {
      "name": "Optimal portfolio.ipynb",
      "provenance": [],
      "collapsed_sections": [],
      "toc_visible": true
    },
    "kernelspec": {
      "name": "python3",
      "display_name": "Python 3"
    },
    "language_info": {
      "name": "python"
    }
  },
  "cells": [
    {
      "cell_type": "markdown",
      "source": [
        "**Partie 1: Téléchargement des stocks**"
      ],
      "metadata": {
        "id": "KbMufis__PqT"
      }
    },
    {
      "cell_type": "code",
      "execution_count": null,
      "metadata": {
        "id": "UpI-eZnW-XiP"
      },
      "outputs": [],
      "source": [
        "# Provides ways to work with large multidimensional arrays\n",
        "import numpy as np \n",
        "# Allows for further data manipulation and analysis\n",
        "import pandas as pd \n",
        "import matplotlib.pyplot as plt # Plotting\n",
        "import matplotlib.dates as mdates # Styling dates\n",
        "%matplotlib inline\n",
        "\n",
        "# pip install numpy\n",
        "# conda install -c anaconda pandas\n",
        "# conda install -c conda-forge matplotlib\n",
        "\n",
        "import datetime as dt # For defining dates\n",
        "\n",
        "import time\n",
        "\n",
        "# In Powershell Prompt : conda install -c conda-forge multitasking\n",
        "# pip install -i https://pypi.anaconda.org/ranaroussi/simple yfinance\n",
        "\n",
        "import yfinance as yf\n",
        "\n",
        "# To show all your output File -> Preferences -> Settings Search for Notebook\n",
        "# Notebook Output Text Line Limit and set to 100\n",
        "\n",
        "# Used for file handling like deleting files\n",
        "import os\n",
        "# conda install -c conda-forge cufflinks-py\n",
        "# conda install -c plotly plotly\n",
        "import cufflinks as cf\n",
        "import plotly.express as px\n",
        "import plotly.graph_objects as go\n",
        "\n",
        "# Make Plotly work in your Jupyter Notebook\n",
        "from plotly.offline import download_plotlyjs, init_notebook_mode, plot, iplot\n",
        "init_notebook_mode(connected=True)\n",
        "# Use Plotly locally\n",
        "cf.go_offline()\n",
        "\n",
        "from plotly.subplots import make_subplots\n",
        "\n",
        "# New Imports\n",
        "# Used to get data from a directory\n",
        "import os\n",
        "from os import listdir\n",
        "from os.path import isfile, join\n",
        "\n",
        "import warnings\n",
        "warnings.simplefilter(\"ignore\")"
      ]
    },
    {
      "cell_type": "markdown",
      "source": [
        "Constant\n"
      ],
      "metadata": {
        "id": "K9-TKciL-uZo"
      }
    },
    {
      "cell_type": "code",
      "source": [
        "PATH = \"D:/Python for Finance/Wilshire_Stocks/\"\n",
        "\n",
        "# Start end date defaults\n",
        "S_DATE = \"2017-02-01\"\n",
        "E_DATE = \"2022-12-06\"\n",
        "S_DATE_DT = pd.to_datetime(S_DATE)\n",
        "E_DATE_DT = pd.to_datetime(E_DATE)"
      ],
      "metadata": {
        "id": "H7Wnd6MF-wHV"
      },
      "execution_count": null,
      "outputs": []
    },
    {
      "cell_type": "markdown",
      "source": [
        "Get Column Data from CSV\n"
      ],
      "metadata": {
        "id": "rirFPXwK-yqK"
      }
    },
    {
      "cell_type": "code",
      "source": [
        "def get_column_from_csv(file, col_name):\n",
        "    # Try to get the file and if it doesn't exist issue a warning\n",
        "    try:\n",
        "        df = pd.read_csv(file)\n",
        "    except FileNotFoundError:\n",
        "        print(\"File Doesn't Exist\")\n",
        "    else:\n",
        "        return df[col_name]"
      ],
      "metadata": {
        "id": "SYxJyvkH-1rA"
      },
      "execution_count": null,
      "outputs": []
    },
    {
      "cell_type": "markdown",
      "source": [
        "Get Stock Tickers\n"
      ],
      "metadata": {
        "id": "BQGdCnKn-4mv"
      }
    },
    {
      "cell_type": "code",
      "source": [
        "tickers = get_column_from_csv(\"D:/Python for Finance/Wilshire-5000-Stocks.csv\", \"Ticker\")\n",
        "print(len(tickers))"
      ],
      "metadata": {
        "id": "0x5__rbf-7zX"
      },
      "execution_count": null,
      "outputs": []
    },
    {
      "cell_type": "markdown",
      "source": [
        "Save Stock Data to CSV\n"
      ],
      "metadata": {
        "id": "MQRJ_qTu--bJ"
      }
    },
    {
      "cell_type": "code",
      "source": [
        "# Function that gets a dataframe by providing a ticker and starting date\n",
        "#folder où on veut sauvgarder nos csv files\n",
        "def save_to_csv_from_yahoo(folder, ticker):\n",
        "    stock = yf.Ticker(ticker)\n",
        "    \n",
        "    try:\n",
        "        print(\"Get Data for : \", ticker)\n",
        "        # Get historical closing price data\n",
        "        df = stock.history(period=\"5y\")\n",
        "    \n",
        "        # Wait 2 seconds\n",
        "        time.sleep(2)\n",
        "        \n",
        "        # Remove the period for saving the file name\n",
        "        # Save data to a CSV file\n",
        "        # File to save to \n",
        "        the_file = folder + ticker.replace(\".\", \"_\") + '.csv'\n",
        "        print(the_file, \" Saved\")\n",
        "        df.to_csv(the_file)\n",
        "    except Exception as ex:\n",
        "        print(\"Couldn't Get Data for :\", ticker)"
      ],
      "metadata": {
        "id": "Qy37gA-Z_Bky"
      },
      "execution_count": null,
      "outputs": []
    },
    {
      "cell_type": "markdown",
      "source": [
        "Download All Stocks\n"
      ],
      "metadata": {
        "id": "25HlEzeA_D4M"
      }
    },
    {
      "cell_type": "code",
      "source": [
        "for x in range(0, 3481):\n",
        "    save_to_csv_from_yahoo(PATH, tickers[x])\n",
        "    print(\"Finished\")"
      ],
      "metadata": {
        "id": "ZrsrYERo_Ezw"
      },
      "execution_count": null,
      "outputs": []
    },
    {
      "cell_type": "markdown",
      "source": [
        "**Partie 2: Calc Stats**"
      ],
      "metadata": {
        "id": "bwar5Av4_N62"
      }
    },
    {
      "cell_type": "code",
      "source": [
        "# Reads a dataframe from the CSV file, changes index to date and returns it\n",
        "def get_stock_df_from_csv(ticker):\n",
        "    \n",
        "    # Try to get the file and if it doesn't exist issue a warning\n",
        "    try:\n",
        "        df = pd.read_csv(PATH + ticker + '.csv', index_col=0)# on utilise la date( la premiere colonne  ) comme index pour la data frame.\n",
        "    except FileNotFoundError:\n",
        "        print(\"File Doesn't Exist\")\n",
        "    else:\n",
        "        return df"
      ],
      "metadata": {
        "id": "hlONPg0FA8hL"
      },
      "execution_count": null,
      "outputs": []
    },
    {
      "cell_type": "markdown",
      "source": [
        "Get all Stocks Downloaded in List\n"
      ],
      "metadata": {
        "id": "6YYfMn37BBeN"
      }
    },
    {
      "cell_type": "code",
      "source": [
        "files = [x for x in listdir(PATH) if isfile(join(PATH, x))]\n",
        "tickers = [os.path.splitext(x)[0] for x in files]\n",
        "tickers\n",
        "# tickers.remove('.ds_Store') MacOS Only\n",
        "tickers.sort()\n",
        "len(tickers)"
      ],
      "metadata": {
        "id": "8idE9D51BDgp"
      },
      "execution_count": null,
      "outputs": []
    },
    {
      "cell_type": "markdown",
      "source": [
        "Add Daily Returns\n",
        "\n",
        "ajouter une colonne qui calcule le changement de prix pour chaque jours et pour chaque tickers. \n"
      ],
      "metadata": {
        "id": "QrOkanRcBFtG"
      }
    },
    {
      "cell_type": "code",
      "source": [
        "# Shift provides the value from the previous day\n",
        "# NaN is displayed because there was no previous day price for the 1st calculation\n",
        "def add_daily_return_to_df(df):\n",
        "    df['daily_return'] = (df['Close'] / df['Close'].shift(1)) - 1\n",
        "    # Save data to a CSV file\n",
        "    # df.to_csv(PATH + ticker + '.csv')\n",
        "    return df "
      ],
      "metadata": {
        "id": "fcB78ddqBIJX"
      },
      "execution_count": null,
      "outputs": []
    },
    {
      "cell_type": "markdown",
      "source": [
        "Add Cumulative Returns\n"
      ],
      "metadata": {
        "id": "aScWSiTjBLBl"
      }
    },
    {
      "cell_type": "code",
      "source": [
        "def add_cum_return_to_df(df):\n",
        "    df['cum_return'] = (1 + df['daily_return']).cumprod()\n",
        "    # df.to_csv(PATH + ticker + '.csv')\n",
        "    return df"
      ],
      "metadata": {
        "id": "ic3ruXH4BLkg"
      },
      "execution_count": null,
      "outputs": []
    },
    {
      "cell_type": "markdown",
      "source": [
        "**Ajoute des bandes de Bollinger**\n",
        "\n",
        "\n",
        "Les bandes de Bollinger tracent 2 lignes en utilisant une moyenne mobile et l'écart type définit la distance entre les lignes. Ils sont également utilisés pour définir si les prix sont trop élevés ou trop bas. Lorsque les bandes se resserrent, on pense qu'un mouvement brusque des prix dans une certaine direction. Les prix ont tendance à rebondir sur les bandes, ce qui fournit des actions potentielles sur le marché.\n",
        "\n",
        "Une tendance forte est à noter si le prix sort de la bande. Si les prix dépassent la ligne de résistance, c'est en territoire de surachat et s'ils franchissent le support, c'est le signe d'une position de survente."
      ],
      "metadata": {
        "id": "gvO4-pyHBPnS"
      }
    },
    {
      "cell_type": "code",
      "source": [
        "# Here we will add a middle band (20 days), upper band (20 days + 1.96 std),\n",
        "# and lower band (20 days - 1.96 std)\n",
        "# Moyenne mobile glissante sur 20 jours\n",
        "def add_bollinger_bands(df):\n",
        "    df['middle_band'] = df['Close'].rolling(window=20).mean()\n",
        "    df['upper_band'] = df['middle_band'] + 1.96 * df['Close'].rolling(window=20).std()\n",
        "    df['lower_band'] = df['middle_band'] - 1.96 * df['Close'].rolling(window=20).std()\n",
        "    # df.to_csv(PATH + ticker + '.csv')\n",
        "    return df"
      ],
      "metadata": {
        "id": "p6QLNCmNBW6a"
      },
      "execution_count": null,
      "outputs": []
    },
    {
      "cell_type": "markdown",
      "source": [
        "**Add Ichimoku Data to Dataframe**\n",
        "The Ichimoku (One Look) is considered an all in one indicator. It provides information on momentum, support and resistance. It is made up of 5 lines. If you are a short term trader you create 1 minute or 6 hour. Long term traders focus on day or weekly data.\n",
        "\n",
        "\n",
        "*  Conversion Line (Tenkan-sen) : Represents support, resistance and reversals. \n",
        "Used to measure short term trends.\n",
        "* Baseline (Kijun-sen) : Represents support, resistance and confirms trend changes. Allows you to evaluate the strength of medium term trends. Called the baseline because it lags the price.\n",
        "* Leading Span A (Senkou A) : Used to identify future areas of support and resistance\n",
        "* Leading Span B (Senkou B) : Other line used to identify suture support and resistance\n",
        "* Lagging Span (Chikou) : Shows possible support and resistance. It is used to confirm signals obtained from other lines.\n",
        "* Cloud (Kumo) : Space between Span A and B. Represents the divergence in price evolution.\n",
        "**Formulas**\n",
        "\n",
        "* Lagging Span = Price shifted back 26 periods\n",
        "* Base Line = (Highest Value in period + Lowest value in period)/2 (26 Sessions)\n",
        "* Conversion Line = (Highest Value in period + Lowest value in period)/2 (9 Sessions)\n",
        "* Leading Span A = (Conversion Value + Base Value)/2 (26 Sessions)\n",
        "* Leading Span B = (Conversion Value + Base Value)/2 (52 Sessions)"
      ],
      "metadata": {
        "id": "LRPzpmkcBeeR"
      }
    },
    {
      "cell_type": "code",
      "source": [
        "def add_Ichimoku(df):\n",
        "    # Conversion\n",
        "    hi_val = df['High'].rolling(window=9).max()\n",
        "    low_val = df['Low'].rolling(window=9).min()\n",
        "    df['Conversion'] = (hi_val + low_val) / 2\n",
        "\n",
        "    # Baseline\n",
        "    hi_val2 = df['High'].rolling(window=26).max()\n",
        "    low_val2 = df['Low'].rolling(window=26).min()\n",
        "    df['Baseline'] = (hi_val2 + low_val2) / 2\n",
        "\n",
        "    # Spans\n",
        "    df['SpanA'] = ((df['Conversion'] + df['Baseline']) / 2).shift(26)\n",
        "    hi_val3 = df['High'].rolling(window=52).max()\n",
        "    low_val3 = df['Low'].rolling(window=52).min()\n",
        "    df['SpanB'] = ((hi_val3 + low_val3) / 2).shift(26)\n",
        "    df['Lagging'] = df['Close'].shift(-26)\n",
        "\n",
        "    return df"
      ],
      "metadata": {
        "id": "q92NMkJZCL--"
      },
      "execution_count": null,
      "outputs": []
    },
    {
      "cell_type": "markdown",
      "source": [
        "Add Daily, Cumulative Bollinger Bands & Ichimoku to Dataframes\n"
      ],
      "metadata": {
        "id": "XP7YTj9VCQND"
      }
    },
    {
      "cell_type": "code",
      "source": [
        "for x in tickers:\n",
        "    try:\n",
        "        print(\"Working on :\", x)\n",
        "        new_df = get_stock_df_from_csv(x)\n",
        "        new_df = add_daily_return_to_df(new_df)\n",
        "        new_df = add_cum_return_to_df(new_df)\n",
        "        new_df = add_bollinger_bands(new_df)\n",
        "        new_df = add_Ichimoku(new_df)\n",
        "        new_df.to_csv(PATH + x + '.csv')\n",
        "    except Exception as ex:\n",
        "        print(ex)"
      ],
      "metadata": {
        "id": "Er4uTfMeCTUw"
      },
      "execution_count": null,
      "outputs": []
    },
    {
      "cell_type": "code",
      "source": [
        "# It is always better to test your results using one stock\n",
        "# try:\n",
        "#     print(\"Working on :\", \"A\")\n",
        "#     new_df = get_stock_df_from_csv(\"A\")\n",
        "#     new_df = add_daily_return_to_df(new_df)\n",
        "#     new_df = add_cum_return_to_df(new_df)\n",
        "#     new_df = add_bollinger_bands(new_df)\n",
        "#     new_df = add_Ichimoku(new_df)\n",
        "#     new_df.to_csv(PATH + 'A' + '.csv')\n",
        "# except Exception as ex:\n",
        "#     print(ex)"
      ],
      "metadata": {
        "id": "cqIBl2nkCYcH"
      },
      "execution_count": null,
      "outputs": []
    },
    {
      "cell_type": "markdown",
      "source": [
        "**Partie 3: Ultimate Plot**"
      ],
      "metadata": {
        "id": "1i8IN2NGCobp"
      }
    },
    {
      "cell_type": "code",
      "source": [
        "# Reads a dataframe from the CSV file, changes index to date and returns it\n",
        "def get_stock_df_from_csv(ticker):\n",
        "    \n",
        "    # Try to get the file and if it doesn't exist issue a warning\n",
        "    try:\n",
        "        df = pd.read_csv(PATH + ticker + '.csv', index_col=0)\n",
        "    except FileNotFoundError:\n",
        "        print(\"File Doesn't Exist\")\n",
        "    else:\n",
        "        return df"
      ],
      "metadata": {
        "id": "DioUxddlDXEs"
      },
      "execution_count": null,
      "outputs": []
    },
    {
      "cell_type": "markdown",
      "source": [
        "Plot Bollinger Bands\n"
      ],
      "metadata": {
        "id": "j8Y5Jzu3Df1B"
      }
    },
    {
      "cell_type": "code",
      "source": [
        "def plot_with_boll_bands(df, ticker):\n",
        "    \n",
        "    fig = go.Figure()\n",
        "\n",
        "    candle = go.Candlestick(x=df.index, open=df['Open'],\n",
        "    high=df['High'], low=df['Low'],\n",
        "    close=df['Close'], name=\"Candlestick\")\n",
        "\n",
        "    upper_line = go.Scatter(x=df.index, y=df['upper_band'], \n",
        "    line=dict(color='rgba(250, 0, 0, 0.75)', \n",
        "    width=1), name=\"Upper Band\")\n",
        "\n",
        "    mid_line = go.Scatter(x=df.index, y=df['middle_band'], \n",
        "    line=dict(color='rgba(0, 0, 250, 0.75)', \n",
        "    width=0.7), name=\"Middle Band\")\n",
        "\n",
        "    lower_line = go.Scatter(x=df.index, y=df['lower_band'], \n",
        "    line=dict(color='rgba(0, 250, 0, 0.75)', \n",
        "    width=1), name=\"Lower Band\")\n",
        "\n",
        "    fig.add_trace(candle)\n",
        "    fig.add_trace(upper_line)\n",
        "    fig.add_trace(mid_line)\n",
        "    fig.add_trace(lower_line)\n",
        "\n",
        "    fig.update_xaxes(title=\"Date\", rangeslider_visible=True)\n",
        "    fig.update_yaxes(title=\"Price\")\n",
        "        # USED FOR NON-DAILY DATA : Get rid of empty dates and market closed\n",
        "    # fig.update_layout(title=ticker + \" Bollinger Bands\",\n",
        "    # height=1200, width=1800, \n",
        "    #               showlegend=True, \n",
        "    #               xaxis_rangebreaks=[\n",
        "    #         dict(bounds=[\"sat\", \"mon\"]),\n",
        "    #         dict(bounds=[16, 9.5], pattern=\"hour\"), \n",
        "    #         dict(values=[\"2021-12-25\", \"2022-01-01\"])\n",
        "    #     ])\n",
        "        \n",
        "    fig.update_layout(title=ticker + \" Bollinger Bands\",\n",
        "    height=1200, width=1800, showlegend=True)\n",
        "    fig.show()"
      ],
      "metadata": {
        "id": "J_Ils1A8DlBx"
      },
      "execution_count": null,
      "outputs": []
    },
    {
      "cell_type": "markdown",
      "source": [
        "Plot Ichimoku\n"
      ],
      "metadata": {
        "id": "Jj3TGxfxDpq1"
      }
    },
    {
      "cell_type": "code",
      "source": [
        "# Used to generate the red and green fill for the Ichimoku cloud\n",
        "def get_fill_color(label):\n",
        "    if label >= 1:\n",
        "        return 'rgba(0,250,0,0.4)'\n",
        "    else:\n",
        "        return 'rgba(250,0,0,0.4)'"
      ],
      "metadata": {
        "id": "IYwWJizIDqah"
      },
      "execution_count": null,
      "outputs": []
    },
    {
      "cell_type": "code",
      "source": [
        "def get_Ichimoku(df):\n",
        "\n",
        "    candle = go.Candlestick(x=df.index, open=df['Open'],\n",
        "    high=df['High'], low=df[\"Low\"], close=df['Close'], name=\"Candlestick\")\n",
        "\n",
        "    df1 = df.copy()\n",
        "    fig = go.Figure()\n",
        "    df['label'] = np.where(df['SpanA'] > df['SpanB'], 1, 0)\n",
        "    df['group'] = df['label'].ne(df['label'].shift()).cumsum()\n",
        "\n",
        "    df = df.groupby('group')\n",
        "\n",
        "    dfs = []\n",
        "    for name, data in df:\n",
        "        dfs.append(data)\n",
        "\n",
        "    for df in dfs:\n",
        "        fig.add_traces(go.Scatter(x=df.index, y=df.SpanA,\n",
        "        line=dict(color='rgba(0,0,0,0)')))\n",
        "\n",
        "        fig.add_traces(go.Scatter(x=df.index, y=df.SpanB,\n",
        "        line=dict(color='rgba(0,0,0,0)'),\n",
        "        fill='tonexty',\n",
        "        fillcolor=get_fill_color(df['label'].iloc[0])))\n",
        "\n",
        "    baseline = go.Scatter(x=df1.index, y=df1['Baseline'], \n",
        "    line=dict(color='pink', width=2), name=\"Baseline\")\n",
        "        conversion = go.Scatter(x=df1.index, y=df1['Conversion'], \n",
        "    line=dict(color='black', width=1), name=\"Conversion\")\n",
        "\n",
        "    lagging = go.Scatter(x=df1.index, y=df1['Lagging'], \n",
        "    line=dict(color='purple', width=2), name=\"Lagging\")\n",
        "\n",
        "    span_a = go.Scatter(x=df1.index, y=df1['SpanA'], \n",
        "    line=dict(color='green', width=2, dash='dot'), name=\"Span A\")\n",
        "\n",
        "    span_b = go.Scatter(x=df1.index, y=df1['SpanB'], \n",
        "    line=dict(color='red', width=1, dash='dot'), name=\"Span B\")\n",
        "\n",
        "    fig.add_trace(candle)\n",
        "    fig.add_trace(baseline)\n",
        "    fig.add_trace(conversion)\n",
        "    fig.add_trace(lagging)\n",
        "    fig.add_trace(span_a)\n",
        "    fig.add_trace(span_b)\n",
        "    \n",
        "    fig.update_layout(height=1200, width=1800, showlegend=True)\n",
        "\n",
        "    fig.show()"
      ],
      "metadata": {
        "id": "fftLY18-DxfV"
      },
      "execution_count": null,
      "outputs": []
    },
    {
      "cell_type": "markdown",
      "source": [
        "Plots"
      ],
      "metadata": {
        "id": "XAQyYNOiD2h1"
      }
    },
    {
      "cell_type": "code",
      "source": [
        "test_df = get_stock_df_from_csv(\"AMD\")\n",
        "plot_with_boll_bands(test_df, \"AMD\")\n",
        "get_Ichimoku(test_df)"
      ],
      "metadata": {
        "id": "PLubWexbD3lX"
      },
      "execution_count": null,
      "outputs": []
    },
    {
      "cell_type": "markdown",
      "source": [
        "**Partie 4: Ultimate Sectors**"
      ],
      "metadata": {
        "id": "s1HQ3U5CD81Q"
      }
    },
    {
      "cell_type": "markdown",
      "source": [
        "Constants"
      ],
      "metadata": {
        "id": "IDNNu642EM7c"
      }
    },
    {
      "cell_type": "markdown",
      "source": [
        "Get Dataframe from CSV\n"
      ],
      "metadata": {
        "id": "YTRMM2HOERR5"
      }
    },
    {
      "cell_type": "code",
      "source": [
        "# Reads a dataframe from the CSV file, changes index to date and returns it\n",
        "def get_stock_df_from_csv(ticker):\n",
        "    \n",
        "    # Try to get the file and if it doesn't exist issue a warning\n",
        "    try:\n",
        "        df = pd.read_csv(PATH + ticker + '.csv', index_col=0)\n",
        "    except FileNotFoundError:\n",
        "        print(\"File Doesn't Exist\")\n",
        "    else:\n",
        "        return df"
      ],
      "metadata": {
        "id": "XTSWZqv3ETcI"
      },
      "execution_count": null,
      "outputs": []
    },
    {
      "cell_type": "markdown",
      "source": [
        "Plot Ichimoku\n"
      ],
      "metadata": {
        "id": "RHmmltCLEbQ1"
      }
    },
    {
      "cell_type": "code",
      "source": [
        "# Used to generate the red and green fill for the Ichimoku cloud\n",
        "def get_fill_color(label):\n",
        "    if label >= 1:\n",
        "        return 'rgba(0,250,0,0.4)'\n",
        "    else:\n",
        "        return 'rgba(250,0,0,0.4)'"
      ],
      "metadata": {
        "id": "PxcLO_umEdh2"
      },
      "execution_count": null,
      "outputs": []
    },
    {
      "cell_type": "code",
      "source": [
        "def get_Ichimoku(df):\n",
        "\n",
        "    candle = go.Candlestick(x=df.index, open=df['Open'],\n",
        "    high=df['High'], low=df[\"Low\"], close=df['Close'], name=\"Candlestick\")\n",
        "\n",
        "    df1 = df.copy()\n",
        "    fig = go.Figure()\n",
        "    df['label'] = np.where(df['SpanA'] > df['SpanB'], 1, 0)\n",
        "    df['group'] = df['label'].ne(df['label'].shift()).cumsum()\n",
        "\n",
        "    df = df.groupby('group')\n",
        "\n",
        "    dfs = []\n",
        "    for name, data in df:\n",
        "        dfs.append(data)\n",
        "\n",
        "    for df in dfs:\n",
        "        fig.add_traces(go.Scatter(x=df.index, y=df.SpanA,\n",
        "        line=dict(color='rgba(0,0,0,0)')))\n",
        "\n",
        "        fig.add_traces(go.Scatter(x=df.index, y=df.SpanB,\n",
        "        line=dict(color='rgba(0,0,0,0)'),\n",
        "        fill='tonexty',\n",
        "        fillcolor=get_fill_color(df['label'].iloc[0])))\n",
        "\n",
        "    baseline = go.Scatter(x=df1.index, y=df1['Baseline'], \n",
        "    line=dict(color='pink', width=2), name=\"Baseline\")\n",
        " conversion = go.Scatter(x=df1.index, y=df1['Conversion'], \n",
        "    line=dict(color='black', width=1), name=\"Conversion\")\n",
        "\n",
        "    lagging = go.Scatter(x=df1.index, y=df1['Lagging'], \n",
        "    line=dict(color='purple', width=2), name=\"Lagging\")\n",
        "\n",
        "    span_a = go.Scatter(x=df1.index, y=df1['SpanA'], \n",
        "    line=dict(color='green', width=2, dash='dot'), name=\"Span A\")\n",
        "\n",
        "    span_b = go.Scatter(x=df1.index, y=df1['SpanB'], \n",
        "    line=dict(color='red', width=1, dash='dot'), name=\"Span B\")\n",
        "\n",
        "    fig.add_trace(candle)\n",
        "    fig.add_trace(baseline)\n",
        "    fig.add_trace(conversion)\n",
        "    fig.add_trace(lagging)\n",
        "    fig.add_trace(span_a)\n",
        "    fig.add_trace(span_b)\n",
        "    \n",
        "    fig.update_layout(height=1200, width=1800, showlegend=True)\n",
        "\n",
        "    fig.show()"
      ],
      "metadata": {
        "id": "WOC9M38lEgTk"
      },
      "execution_count": null,
      "outputs": []
    },
    {
      "cell_type": "markdown",
      "source": [
        "Get Sector Stocks\n"
      ],
      "metadata": {
        "id": "w0Gm6BCvElFO"
      }
    },
    {
      "cell_type": "code",
      "source": [
        "sec_df = pd.read_csv(\"D:/Python for Finance/big_stock_sectors.csv\")\n",
        "sec_df\n",
        "\n",
        "indus_df = sec_df.loc[sec_df['Sector'] == \"Industrial\"]\n",
        "health_df = sec_df.loc[sec_df['Sector'] == \"Healthcare\"]\n",
        "it_df = sec_df.loc[sec_df['Sector'] == \"Information Technology\"]\n",
        "comm_df = sec_df.loc[sec_df['Sector'] == \"Communication\"]\n",
        "staple_df = sec_df.loc[sec_df['Sector'] == \"Staples\"]\n",
        "discretion_df = sec_df.loc[sec_df['Sector'] == \"Discretionary\"]\n",
        "utility_df = sec_df.loc[sec_df['Sector'] == \"Utilities\"]\n",
        "financial_df = sec_df.loc[sec_df['Sector'] == \"Financials\"]\n",
        "material_df = sec_df.loc[sec_df['Sector'] == \"Materials\"]\n",
        "restate_df = sec_df.loc[sec_df['Sector'] == \"Real Estate\"]\n",
        "energy_df = sec_df.loc[sec_df['Sector'] == \"Energy\"]"
      ],
      "metadata": {
        "id": "Kq3XlUeFEniT"
      },
      "execution_count": null,
      "outputs": []
    },
    {
      "cell_type": "markdown",
      "source": [
        "Returns a DF with Cumulative Return for all Stocks\n"
      ],
      "metadata": {
        "id": "t6y0t6spExHz"
      }
    },
    {
      "cell_type": "code",
      "source": [
        "def get_cum_ret_for_stocks(stock_df):\n",
        "    tickers = []\n",
        "    cum_rets = []\n",
        "\n",
        "    for index, row in stock_df.iterrows():\n",
        "        df = get_stock_df_from_csv(row['Ticker'])\n",
        "        if df is None:\n",
        "            pass\n",
        "        else:\n",
        "            tickers.append(row['Ticker'])\n",
        "            cum = df['cum_return'].iloc[-1]\n",
        "            cum_rets.append(cum)\n",
        "    return pd.DataFrame({'Ticker':tickers, 'CUM_RET':cum_rets})"
      ],
      "metadata": {
        "id": "jlotnTHxEzYP"
      },
      "execution_count": null,
      "outputs": []
    },
    {
      "cell_type": "code",
      "source": [
        "industrial = get_cum_ret_for_stocks(indus_df)\n",
        "health_care = get_cum_ret_for_stocks(health_df)\n",
        "it = get_cum_ret_for_stocks(it_df)\n",
        "commun = get_cum_ret_for_stocks(comm_df)\n",
        "staple = get_cum_ret_for_stocks(staple_df)\n",
        "discretion = get_cum_ret_for_stocks(discretion_df)\n",
        "utility = get_cum_ret_for_stocks(utility_df)\n",
        "finance = get_cum_ret_for_stocks(financial_df)\n",
        "material = get_cum_ret_for_stocks(material_df)\n",
        "restate = get_cum_ret_for_stocks(restate_df)\n",
        "energy = get_cum_ret_for_stocks(energy_df)"
      ],
      "metadata": {
        "id": "pGNNH3waE1zF"
      },
      "execution_count": null,
      "outputs": []
    },
    {
      "cell_type": "markdown",
      "source": [
        "Top Industrials\n"
      ],
      "metadata": {
        "id": "nZNuluZOE6rV"
      }
    },
    {
      "cell_type": "code",
      "source": [
        "industrial.sort_values(by=['CUM_RET'], ascending=False).head(10)\n"
      ],
      "metadata": {
        "id": "NXHmkV4xE8ov"
      },
      "execution_count": null,
      "outputs": []
    },
    {
      "cell_type": "code",
      "source": [
        "# CALX, NOVT, BLDR\n",
        "df_ind = get_stock_df_from_csv(\"CALX\")\n",
        "get_Ichimoku(df_ind)"
      ],
      "metadata": {
        "id": "NAJvOHhKFATq"
      },
      "execution_count": null,
      "outputs": []
    },
    {
      "cell_type": "markdown",
      "source": [
        "Top Healthcare\n"
      ],
      "metadata": {
        "id": "5DHVsZ4gFChZ"
      }
    },
    {
      "cell_type": "code",
      "source": [
        "health_care.sort_values(by=['CUM_RET'], ascending=False).head(30)\n"
      ],
      "metadata": {
        "id": "mSmTuew-FENz"
      },
      "execution_count": null,
      "outputs": []
    },
    {
      "cell_type": "code",
      "source": [
        "# DXCM, RGEN, PFE, LLY\n",
        "df_hc = get_stock_df_from_csv(\"LLY\")\n",
        "get_Ichimoku(df_hc)"
      ],
      "metadata": {
        "id": "DZFUWIDOFL5Z"
      },
      "execution_count": null,
      "outputs": []
    },
    {
      "cell_type": "markdown",
      "source": [
        "Top Information Technology\n"
      ],
      "metadata": {
        "id": "iJshgGACFQwD"
      }
    },
    {
      "cell_type": "code",
      "source": [
        "it.sort_values(by=['CUM_RET'], ascending=False).head(20)\n"
      ],
      "metadata": {
        "id": "WFgAOr1WFRfH"
      },
      "execution_count": null,
      "outputs": []
    },
    {
      "cell_type": "code",
      "source": [
        "# AMD, NVDA\n",
        "df_it = get_stock_df_from_csv(\"NVDA\")\n",
        "get_Ichimoku(df_it)"
      ],
      "metadata": {
        "id": "PJNllUkQFXvv"
      },
      "execution_count": null,
      "outputs": []
    },
    {
      "cell_type": "markdown",
      "source": [
        "Top Communications\n"
      ],
      "metadata": {
        "id": "oprl381BFZ1I"
      }
    },
    {
      "cell_type": "code",
      "source": [
        "commun.sort_values(by=['CUM_RET'], ascending=False).head(20)\n"
      ],
      "metadata": {
        "id": "1oaw4Ju0FacH"
      },
      "execution_count": null,
      "outputs": []
    },
    {
      "cell_type": "code",
      "source": [
        "# NFLX\n",
        "df_com = get_stock_df_from_csv(\"NFLX\")\n",
        "get_Ichimoku(df_it)"
      ],
      "metadata": {
        "id": "C6vYqso7FfT4"
      },
      "execution_count": null,
      "outputs": []
    },
    {
      "cell_type": "markdown",
      "source": [
        "Top Staples\n"
      ],
      "metadata": {
        "id": "N8Rj7GXNFogb"
      }
    },
    {
      "cell_type": "code",
      "source": [
        "staple.sort_values(by=['CUM_RET'], ascending=False).head(20)\n"
      ],
      "metadata": {
        "id": "4bMFD-0RFqYv"
      },
      "execution_count": null,
      "outputs": []
    },
    {
      "cell_type": "code",
      "source": [
        "# DAR, COST, BJ, WMT\n",
        "df_stap = get_stock_df_from_csv(\"WMT\")\n",
        "get_Ichimoku(df_stap)"
      ],
      "metadata": {
        "id": "u7XS7LOJFtfR"
      },
      "execution_count": null,
      "outputs": []
    },
    {
      "cell_type": "markdown",
      "source": [
        "Top Discretionary\n"
      ],
      "metadata": {
        "id": "7ST7lgwnFw80"
      }
    },
    {
      "cell_type": "code",
      "source": [
        "discretion.sort_values(by=['CUM_RET'], ascending=False).head(20)\n"
      ],
      "metadata": {
        "id": "9fWLh1fQFyzj"
      },
      "execution_count": null,
      "outputs": []
    },
    {
      "cell_type": "code",
      "source": [
        "# BOOT, WING, LULU\n",
        "df_dis = get_stock_df_from_csv(\"LULU\")\n",
        "get_Ichimoku(df_dis)"
      ],
      "metadata": {
        "id": "D6Y9Qf-xF2Oh"
      },
      "execution_count": null,
      "outputs": []
    },
    {
      "cell_type": "markdown",
      "source": [
        "Top Utilities\n"
      ],
      "metadata": {
        "id": "4Iw6h_vbF4Is"
      }
    },
    {
      "cell_type": "code",
      "source": [
        "utility.sort_values(by=['CUM_RET'], ascending=False).head(20)\n"
      ],
      "metadata": {
        "id": "_f90eYKoF5ug"
      },
      "execution_count": null,
      "outputs": []
    },
    {
      "cell_type": "code",
      "source": [
        "# NEE, AWK, \n",
        "df_utl = get_stock_df_from_csv(\"AWK\")\n",
        "get_Ichimoku(df_utl)"
      ],
      "metadata": {
        "id": "71cDBpmEF71i"
      },
      "execution_count": null,
      "outputs": []
    },
    {
      "cell_type": "markdown",
      "source": [
        "Top Finance\n"
      ],
      "metadata": {
        "id": "BQVpGUd-F902"
      }
    },
    {
      "cell_type": "code",
      "source": [
        "finance.sort_values(by=['CUM_RET'], ascending=False).head(20)\n"
      ],
      "metadata": {
        "id": "PwrIyoTYF_if"
      },
      "execution_count": null,
      "outputs": []
    },
    {
      "cell_type": "code",
      "source": [
        "# MSCI, KKR \n",
        "df_fin = get_stock_df_from_csv(\"KKR\")\n",
        "get_Ichimoku(df_fin)"
      ],
      "metadata": {
        "id": "OxwfM8r6GBx2"
      },
      "execution_count": null,
      "outputs": []
    },
    {
      "cell_type": "markdown",
      "source": [
        "Top Materials\n"
      ],
      "metadata": {
        "id": "aG_LEF8NGDv9"
      }
    },
    {
      "cell_type": "code",
      "source": [
        "material.sort_values(by=['CUM_RET'], ascending=False).head(20)\n"
      ],
      "metadata": {
        "id": "YdF-cFhmGEd9"
      },
      "execution_count": null,
      "outputs": []
    },
    {
      "cell_type": "code",
      "source": [
        "# LPX, SHW\n",
        "df_mat = get_stock_df_from_csv(\"AVY\")\n",
        "get_Ichimoku(df_mat)"
      ],
      "metadata": {
        "id": "6iVuOiz7GJny"
      },
      "execution_count": null,
      "outputs": []
    },
    {
      "cell_type": "markdown",
      "source": [
        "Top Real Estate\n"
      ],
      "metadata": {
        "id": "ltbmKA9RGk37"
      }
    },
    {
      "cell_type": "code",
      "source": [
        "restate.sort_values(by=['CUM_RET'], ascending=False).head(20)\n"
      ],
      "metadata": {
        "id": "PcMIUTpXGnD0"
      },
      "execution_count": null,
      "outputs": []
    },
    {
      "cell_type": "code",
      "source": [
        "# NXRT, NSA, CBRE\n",
        "df_re = get_stock_df_from_csv(\"CBRE\")\n",
        "get_Ichimoku(df_re)"
      ],
      "metadata": {
        "id": "umYjsHcMGqiU"
      },
      "execution_count": null,
      "outputs": []
    },
    {
      "cell_type": "markdown",
      "source": [
        "Top Energy\n"
      ],
      "metadata": {
        "id": "N9dvoKP7Gt2h"
      }
    },
    {
      "cell_type": "code",
      "source": [
        "energy.sort_values(by=['CUM_RET'], ascending=False).head(20)\n"
      ],
      "metadata": {
        "id": "uVoAYI8-Gv1k"
      },
      "execution_count": null,
      "outputs": []
    },
    {
      "cell_type": "code",
      "source": [
        "# AES, \n",
        "df_energy = get_stock_df_from_csv(\"NC\")\n",
        "get_Ichimoku(df_energy)"
      ],
      "metadata": {
        "id": "RM4qhpoQGyDF"
      },
      "execution_count": null,
      "outputs": []
    },
    {
      "cell_type": "code",
      "source": [
        "\n",
        "stock_list = ['CALX', 'NOVT', 'BLDR', 'DXCM', 'REGEN', 'PFE', 'LLY',\n",
        "'AMD', 'NVDA', 'NFLX', 'DAR', 'COST', 'BJ', 'WMT', 'BOOT', 'WING',\n",
        "'LULU', 'NEE', 'AWK', 'MSCI', 'KKR', 'LPX', 'SHW', 'NXRT', 'NSA',\n",
        "'CBRE', 'AES']"
      ],
      "metadata": {
        "id": "HB-vovOeGz1x"
      },
      "execution_count": null,
      "outputs": []
    },
    {
      "cell_type": "markdown",
      "source": [
        "**PARTIE 5: Ultimate Portfolio**"
      ],
      "metadata": {
        "id": "ax9YkjJWHBMv"
      }
    },
    {
      "cell_type": "markdown",
      "source": [
        "Constants\n"
      ],
      "metadata": {
        "id": "H49pnltLHNd8"
      }
    },
    {
      "cell_type": "markdown",
      "source": [
        "Get Stock File Names in a List\n"
      ],
      "metadata": {
        "id": "wd2HmzZ2HTxQ"
      }
    },
    {
      "cell_type": "code",
      "source": [
        "files = [x for x in listdir(PATH) if isfile(join(PATH, x))]\n",
        "tickers = [os.path.splitext(x)[0] for x in files]\n",
        "tickers\n",
        "\n",
        "# On MacOS Only\n",
        "# tickers.remove('.DS_Store')\n",
        "# 3263 total stocks\n",
        "tickers.sort()\n",
        "len(tickers)"
      ],
      "metadata": {
        "id": "yKYgcHfJHVbY"
      },
      "execution_count": null,
      "outputs": []
    },
    {
      "cell_type": "markdown",
      "source": [
        "Function that Returns a Dataframe from a CSV\n"
      ],
      "metadata": {
        "id": "Ov3jt6ZHHyoq"
      }
    },
    {
      "cell_type": "code",
      "source": [
        "# Reads a dataframe from the CSV file, changes index to date and returns it\n",
        "def get_stock_df_from_csv(ticker):\n",
        "    \n",
        "    # Try to get the file and if it doesn't exist issue a warning\n",
        "    try:\n",
        "        df = pd.read_csv(PATH + ticker + '.csv', index_col=0)\n",
        "    except FileNotFoundError as ex:\n",
        "        print(ex)\n",
        "    else:\n",
        "        return df"
      ],
      "metadata": {
        "id": "tFV-Xvx8H0i1"
      },
      "execution_count": null,
      "outputs": []
    },
    {
      "cell_type": "markdown",
      "source": [
        "Merge Multiple Stocks in One Dataframe by Column Name\n"
      ],
      "metadata": {
        "id": "zpIvPxvNH2mb"
      }
    },
    {
      "cell_type": "code",
      "source": [
        "def merge_df_by_column_name(col_name, sdate, edate, *tickers):\n",
        "    # Will hold data for all dataframes with the same column name\n",
        "    mult_df = pd.DataFrame()\n",
        "    \n",
        "    for x in tickers:\n",
        "        df = get_stock_df_from_csv(x)\n",
        "        \n",
        "        # NEW Check if your dataframe has duplicate indexes\n",
        "        # if not df.index.is_unique:\n",
        "        #     # Delete duplicates \n",
        "        #     df = df.loc[~df.index.duplicated(), :]\n",
        "        \n",
        "        mask = (df.index >= sdate) & (df.index <= edate)\n",
        "        mult_df[x] = df.loc[mask][col_name]\n",
        "        \n",
        "    return mult_df"
      ],
      "metadata": {
        "id": "XQpCqIcwH4vW"
      },
      "execution_count": null,
      "outputs": []
    },
    {
      "cell_type": "markdown",
      "source": [
        "**Markowitz Portfolio Optimization**\n",
        "Harry Markowitz proved that you could make what is called an efficient portfolio. That is a portfolio that optimizes return while also minimizing risk. We don't benefit from analyzing individual securities at the same rate as if we instead considered a portfolio of stocks.\n",
        "\n",
        "![Capture 1.PNG](data:image/png;base64,iVBORw0KGgoAAAANSUhEUgAAAIsAAAAjCAYAAACkVvl8AAAAAXNSR0IArs4c6QAAAARnQU1BAACxjwv8YQUAAAAJcEhZcwAADsMAAA7DAcdvqGQAAAToSURBVHhe7Zg/a+NIGMbvq+hLqDRpwhVxZXONIYVgC4EhhoMgFoJIYwKLSGFMIIhAMAfBBAIKHKgIqAioOZRi8RaLUwSlCLgIqAioCDz3jCQnjh3bY2+03B7zA4FG45Fn3nneP6PfoFBIosSikEaJRSGNEotCGiUWhTRKLApplFgU0iixKKRRYlFIo8SikEaJRSHNry+WhxD9cFQ0FGXy64vlpgvtIERaNBXlocSikGaJWFIMTi2YOwaqGw7Cp/zpyLfR2O5hIPqP6tA0A/27vG8e8d8WjEYdeqML77INc9dCq2YuHbeUVcRyH6Dd5HoMHeZ5nD9LB3CbDbSvmMoefLR0DfqXJe97itClTRp6Bda5j96uCXvXQGXZuFKI4X/mXGo6GkcevAMT1ucW6mafPR/LQrGk3Ij6no/kto+GpsMJhSlG8JoatKbHOyAJ2qi+9M0hDeHUuoiuubGahjqNOryyofPeGG/aukiLRczbgPstQXjA+RuFMTle16ro3vANT0P0xNrGfXOIzw2Yl1FuB72F/m2EXk3c06FWUgud7czi5spcDoKHYtgEaeig3okQdvj/Wh3O9RDBvi7lwKuyUCyjsAePxh0cV6FtOYhEZEkC2NzkxomIKwJ6mWbCm1zIc4qkiEIZ9Gj3coDhhfm6iMchwjBCPPk7vjFJFlh7FKJ37MKdvPYMzq0FZ+p5b7rofR7CPw0Rj3xYnL95kcthcMK1aRb8x6yJ0aWJKo2fzYIRxN21YTc3sbnDSJrNlRt80UN4H8Hhe/RMqCnimxDh90T8YM64cogDl3s0hGe+ijz5zrncxPkaPhCJmoViYGiuHhYG/MehcQtPFDx4DOuFJ95RFIc2jN85cRr8LQmCPT7fdjGYXkUSoX/swGIoHUcsaVasWYQYNCHue9GKcyNP/GfUqaB9nb9tcCIiEW9EZJxOT99cRlQNll8IZIKF48pgxoHLYblYCqPYwdiAwhNtBIW3JD5rkbPJoF2kqRmxFKIbe+07RCKUliqWsWB7GGbNwsh/ZS3C+qXWLmqzfB36fsBRnNshx21R6KKLvIhuJjUsHveWH09DGZOptERWFEvKfMjFv4iFxv1E4xYhPGeOWO5E3fMquvf4aWL5oxDLbS+bU70QS8I6qkXhj9+VMtVE9/m6szrnZdOL9lh0U8wfVw7xWeONA7/C9e43UN2qwNix4HQY9Q03LyfWQCINiRNRC5sbBtXN69SDu7OJCkXSZl7ufZ0Ow++LRWyEKAb9ed5ByhcLEScio4I659765KB/3oaxUYd1YMPq+FM1VME9U63emPBcOskWRXa0JOzPjCuD3AH0P/1Zuz1yrV9cdLdZo12KXlFf0mGvZlOnDBJiWZU5kUUUvYuKV7KWWL52yz2ysp7qGhZPPG//IU0SpM9F4z3mjCuFpwRzTStqSqaorIYS4qVYxjXZqvw8sUiwlljKRHxPafI4LNIsi9X2tuS3i3XHlUB63WaK4kmW96K+1Grrp8SPFUtxqmkxRGuGzSNsIGmkGAGPu7bBcdkxuI9ovUj5gYh8L75XcE7jSyrdrTuuHKIO58JU6Jx2mXa7U/XlapQQWRT/HfLaKq9Xfhwllv8tCaJTC3VGNmPP+5APg0osCmmUWBTSKLEopFFiUUijxKKQRolFIY0Si0IaJRaFNEosCkmAfwFgMqfxZZwOagAAAABJRU5ErkJggg==)\n",
        "\n",
        "We do this by creating portfolios with stocks that are not correlated. We want to calculate expected returns by analyzing the returns of each stock multiplied by its weight.\n",
        "\n",
        "![Capture.PNG](data:image/png;base64,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)\n",
        "\n",
        "The standard deviation of the portfolio is found this way. Sum multiple calculations starting by finding the product of the first securities weight squared times its standard deviation squared. The middle is 2 times the correlation coefficient between the stocks. And, finally add those to the weight squared times the standard deviation squared for the second security.\n",
        "\n",
        "**Plotting an Efficient Frontier**\n",
        "\n",
        "**Stock Portfolio**\n"
      ],
      "metadata": {
        "id": "V3piaHqCH7Fl"
      }
    },
    {
      "cell_type": "code",
      "source": [
        "# 1ST LIST port_list = ['CALX', 'NOVT', 'BLDR', 'DXCM', 'RGEN', 'PFE', 'LLY',\n",
        "# 'AMD', 'NVDA', 'NFLX', 'DAR', 'COST', 'BJ', 'WMT', 'BOOT', 'WING',\n",
        "# 'LULU', 'NEE', 'AWK', 'MSCI', 'KKR', 'LPX', 'SHW', 'NXRT', 'NSA',\n",
        "# 'CBRE', 'AES']\n",
        "\n",
        "# 2ND LIST port_list = ['CALX', 'NOVT', 'RGEN', 'LLY',\n",
        "# 'AMD', 'NFLX', 'COST', 'BJ', 'WING',\n",
        "# 'LULU', 'NEE', 'MSCI', 'KKR', 'SHW', 'NSA',\n",
        "# 'CBRE']\n",
        "port_list = ['CALX', 'NOVT', 'RGEN', 'LLY',\n",
        "'AMD', 'NFLX', 'COST', 'BJ', 'WING',\n",
        "'MSCI', 'CBRE']\n",
        "num_stocks = len(port_list)\n",
        "num_stocks"
      ],
      "metadata": {
        "id": "d4WYjTwMKdbF"
      },
      "execution_count": null,
      "outputs": []
    },
    {
      "cell_type": "markdown",
      "source": [
        "Merge All Data by Closing Price\n"
      ],
      "metadata": {
        "id": "bt4leEIyKfsA"
      }
    },
    {
      "cell_type": "code",
      "source": [
        "mult_df = merge_df_by_column_name('Close',  S_DATE, \n",
        "                                  E_DATE, *port_list)\n",
        "mult_df"
      ],
      "metadata": {
        "id": "cKiRD6r1KhaM"
      },
      "execution_count": null,
      "outputs": []
    },
    {
      "cell_type": "markdown",
      "source": [
        "Plot Price of Investments over Total Dataset\n"
      ],
      "metadata": {
        "id": "twi7UFKuKqm4"
      }
    },
    {
      "cell_type": "code",
      "source": [
        "# Plot out prices for each stock since beginning of 2017\n",
        "fig = px.line(mult_df, x=mult_df.index, y=mult_df.columns)\n",
        "fig.update_xaxes(title=\"Date\", rangeslider_visible=True)\n",
        "fig.update_yaxes(title=\"Price\")\n",
        "fig.update_layout(height=1200, width=1800, \n",
        "                  showlegend=True)\n",
        "fig.show()"
      ],
      "metadata": {
        "id": "nOP8Ljl0Ktti"
      },
      "execution_count": null,
      "outputs": []
    },
    {
      "cell_type": "markdown",
      "source": [
        "Cumulative Return for all Stocks\n"
      ],
      "metadata": {
        "id": "Rm3PLvOFKyEq"
      }
    },
    {
      "cell_type": "code",
      "source": [
        "mult_cum_df = merge_df_by_column_name('cum_return',  S_DATE, \n",
        "                                  E_DATE, *port_list)\n",
        "mult_cum_df"
      ],
      "metadata": {
        "id": "ssNhNolELJTM"
      },
      "execution_count": null,
      "outputs": []
    },
    {
      "cell_type": "code",
      "source": [
        "# Plot out cumulative returns for each stock since beginning of 2017\n",
        "fig = px.line(mult_cum_df, x=mult_cum_df.index, y=mult_cum_df.columns)\n",
        "fig.update_xaxes(title=\"Date\", rangeslider_visible=True)\n",
        "fig.update_yaxes(title=\"Price\")\n",
        "fig.update_layout(height=1200, width=1800, \n",
        "                  showlegend=True)\n",
        "fig.show()"
      ],
      "metadata": {
        "id": "ECH5bZQxLNJg"
      },
      "execution_count": null,
      "outputs": []
    },
    {
      "cell_type": "markdown",
      "source": [
        "Mean Returns\n"
      ],
      "metadata": {
        "id": "_KUVTRXaLSql"
      }
    },
    {
      "cell_type": "code",
      "source": [
        "returns = np.log(mult_df / mult_df.shift(1))\n",
        "mean_ret = returns.mean() * 252 # 252 average trading days per year\n",
        "mean_ret"
      ],
      "metadata": {
        "id": "ENSzHWI3LrGu"
      },
      "execution_count": null,
      "outputs": []
    },
    {
      "cell_type": "markdown",
      "source": [
        "Correlation\n"
      ],
      "metadata": {
        "id": "SxxTSNIBLzUa"
      }
    },
    {
      "cell_type": "code",
      "source": [
        "# We want great performing stocks that go up when others go down to smooth the returns over the year\n",
        "returns.corr()"
      ],
      "metadata": {
        "id": "VqCOG5FHL1UR"
      },
      "execution_count": null,
      "outputs": []
    },
    {
      "cell_type": "markdown",
      "source": [
        "Generate Random Weights Equal to 1\n"
      ],
      "metadata": {
        "id": "jE0XatTjL3kg"
      }
    },
    {
      "cell_type": "code",
      "source": [
        "# Generate 11 random values that sum to 1\n",
        "weights = np.random.random(num_stocks)\n",
        "weights /= np.sum(weights)\n",
        "print('Weights :', weights)\n",
        "print('Total Weight :', np.sum(weights))"
      ],
      "metadata": {
        "id": "Ws90XXD4L5iR"
      },
      "execution_count": null,
      "outputs": []
    },
    {
      "cell_type": "markdown",
      "source": [
        "Calculating Return of Portfolio using a Random Weighting\n"
      ],
      "metadata": {
        "id": "nA1p9ZbvL8Bg"
      }
    },
    {
      "cell_type": "code",
      "source": [
        "# Provide return of portfolio using random weights over the whole dataset\n",
        "np.sum(weights * returns.mean()) * 252"
      ],
      "metadata": {
        "id": "sEuBAJfsL7rS"
      },
      "execution_count": null,
      "outputs": []
    },
    {
      "cell_type": "markdown",
      "source": [
        "Calculating Volatility\n"
      ],
      "metadata": {
        "id": "c2gD3O8eMAin"
      }
    },
    {
      "cell_type": "code",
      "source": [
        "np.sqrt(np.dot(weights.T, np.dot(returns.cov() * 252, weights)))\n"
      ],
      "metadata": {
        "id": "3olGTOC8MBR1"
      },
      "execution_count": null,
      "outputs": []
    },
    {
      "cell_type": "markdown",
      "source": [
        "Analyzing Returns & Risks of 10000 Combinations\n"
      ],
      "metadata": {
        "id": "yKdL-o7ZMGq-"
      }
    },
    {
      "cell_type": "code",
      "source": [
        "p_ret = [] # Returns list\n",
        "p_vol = [] # Volatility list\n",
        "p_SR = [] # Sharpe Ratio list\n",
        "p_wt = [] # Stock weights list\n",
        "\n",
        "\n",
        "for x in range(10000):\n",
        "    # Generate random weights\n",
        "    p_weights = np.random.random(num_stocks)\n",
        "    p_weights /= np.sum(p_weights)\n",
        "    \n",
        "    # Add return using those weights to list\n",
        "    ret_1 = np.sum(p_weights * returns.mean()) * 252\n",
        "    p_ret.append(ret_1)\n",
        "    \n",
        "    # Add volatility or standard deviation to list\n",
        "    vol_1 = np.sqrt(np.dot(p_weights.T, np.dot(returns.cov() * 252, p_weights)))\n",
        "    p_vol.append(vol_1)\n",
        "    \n",
        "    # Get Sharpe ratio\n",
        "    SR_1 = (ret_1 - risk_free_rate) / vol_1\n",
        "    p_SR.append(SR_1)\n",
        "    \n",
        "    # Store the weights for each portfolio\n",
        "    p_wt.append(p_weights)\n",
        "    \n",
        "# Convert to Numpy arrays\n",
        "p_ret = np.array(p_ret)\n",
        "p_vol = np.array(p_vol)\n",
        "p_SR = np.array(p_SR)\n",
        "p_wt = np.array(p_wt)\n",
        "\n",
        "p_ret, p_vol, p_SR, p_wt"
      ],
      "metadata": {
        "id": "8M-MEHCTMGLk"
      },
      "execution_count": null,
      "outputs": []
    },
    {
      "cell_type": "markdown",
      "source": [
        "Plotting the Efficient Frontier\n"
      ],
      "metadata": {
        "id": "-WRmDXGtMOVP"
      }
    },
    {
      "cell_type": "code",
      "source": [
        "# Create a dataframe with returns and volatility\n",
        "ports = pd.DataFrame({'Return': p_ret, 'Volatility': p_vol})\n",
        "\n",
        "ports.plot(x='Volatility', y='Return', kind='scatter', figsize=(16, 9))"
      ],
      "metadata": {
        "id": "0DhSYMN2MGFg"
      },
      "execution_count": null,
      "outputs": []
    },
    {
      "cell_type": "markdown",
      "source": [
        "![capture 3.PNG](data:image/png;base64,iVBORw0KGgoAAAANSUhEUgAABGIAAAEOCAYAAADCPbEZAAAAAXNSR0IArs4c6QAAAARnQU1BAACxjwv8YQUAAAAJcEhZcwAADsMAAA7DAcdvqGQAAEFZSURBVHhe7d3PayRHtujx96/UP6Fl483wFu6VtRN4IZhFQcM0DDTCYMTApTFchBeiMBhhMM2FRhgGSmDQYkCLAW0uJXiDejHICyMvGrQwaGHQYiBexq/McyIiI6tKpWyp+/uBwl2VmREnTkRWVR5Xlf6PAQAAAAAAwCgoxAAAAAAAAIyEQgwAAAAAAMBIKMQAAAAAAACMhEIMAAAAAADASEYsxCzMbDIxE3t7MTc34VE8Njfm9NUzN0/bhwtzFx4FAAAAAAD3d79CzN2NWZwcmf0XO+ZPW6HI0ty2/u+O2Xn12pz9GvZzKMSUibxkt2dm+8W+OTq9Mrdh7wf3fm6mbf+zJjoAAAAAALApaxdi7t4dmV1RfCndZhdhZ4dCTFmtENPdtnZmZvFHOOSebn85N/Pv983uV6eFebgxZ/+1Y7Ymz8zu93wiBgAAAACATVqvEPP+1LxsizBbZuerIzM/Ozfn5+F2Njdvvnlpjv4V9ncoxJSJvEyPzdXtrbm1t5srszg9MtPPwrbm9nwjXxViHgAAAAAA+FDWKsRcv91piwPTv1+HR4dQACgbyMtv8qtCB83e98U8AAAAAADwoaxViFkcxsJA+vWjGgoAZUN5uTHzF2H7ZGrm78PDa2MeAAAAAAD4UNYqxFz+8DwUBiZm9+36n4i5OX9j9v/8J7NlH9v6k9n9+o1Z/O731m7N9dmxef1qx2y3X9XZMn/a2TOz06v86zoXsza+6UnT0+8Lc/QX38/WK/+7KDcn03YfV0z6z405/36vbd/+4PDe9+fm5j+uxaLbf5+aWRNT/KFid8zhqbla6Zd1hwoj1+b4y7C99ImY22tz9tNrs/fltnkW22lyufNqZk5/kZkR/ZRuh7HlJQo1sc+dMHfNzY39m2NzXjwAAAAAAABY6/1GzK/HZjderNvfiPn21FwPFh/0Bf7i5GV7Ea9uX+Q/Snv53Va+n7hlf2ZZFmL+59i8lj8qHItAshBz1sT2hdhH3Mo/kntnLn/YLcdvb5/tmdPfwq6D6oWPu2Ys22H71n+fJ0WnSzOr/mDytpldxCM2U4gZ/pHmZ2bv52WLcwAAAAAAfFrWK8Q0rv+x3xYI4gX49PDUXBY/0WKJC/ytLbO1tWMOTq/Mze2tufnl1ByIQsjuT/pCfnFofxD4jTn75cbchU+o3L0/N7M/xwJN8pUdUYjZsn399TiLSxZinn/+3Gz9eebatz+Ue/PLmWh7YrZ/uAxHeTc/xyLSltn97tzchFrH7bvj7keM+z5NkhF5kT/W+9ul+9TJTmzPFneyryU1xzZ53PvxzFzFIMyduTmfdcUSEceda/vMHJT6a4tNlULMb/NufE2/r39amGt3/I25OpM/LLxtjt6FYwAAAAAAQGvtQox198vcvN5JP63yzOz9dGXyD8iIC/zJlnn9T/3ZDvPuyDyP27/Rn/y4/b3n4zb/exDam+j2RCFmsvXanBf+7LMsxEx2j032GY4/Fubg89jGrIk+uDs3B6EYsZXEad2e7oV2d8zxr+HBKpmX0u2Z2f1m3vN1p9smN+GficW38fhm/CrISqHF6dt+Z87/O861/KSNID8p9fVZYQ0AAAAAAPBpu1chxrOfwHhj9nefhYt0f3v26jQpbogLfFnYaA0UCO5uzdXFmZn/eGQOvp6aHfmbKM3N/RZMJAsx3+Y9WbIQs3daLhl0v4UjPnHzr1n7laSD/w2PSeKvHL38OS9z5OqFmOdfz81VoZAk3f1+ZRb2T4Z/f2D2X+yYnS/kXKQ/8LtuIUZ8DaqZ23LGbs3pq7DPRv7CEwAAAAAAH5cNFGI6N+fy6ynpD/muWwCwX4MSX9Fpb8/Mtig49BVi1ONC9mO9BaV91CdpBm59fWulcd+Zm7OD7rdh/jrPP7HjXJuz/9rJf6vms23xo8YbKsS8F39Gu/09mVz3F7U28ReeAAAAAAD4uGy0EOOIT4RMPj8y3a+rrFcAuPtX92O12387Nuf2d1ziJ0T6Ci4bL8R0XzMapxDjXYsfNN7+7jL5GtSdufxuO/S1bfZ/OjdXN7ftb+j0F0QoxAAAAAAA8KFsvhDTXLrPX8SLcfkVpPUKAP2/ddIQvxFzn0JM8StG9jdRvol975uz+F0c0WdfAWc1tbzcmNO/dr/Lon8Ad9H96G7ht2q6vG3qq0miv8pXk86+DvtszUQRDgAAAAAAWGsVYi5P879C1NroJ2JkUSf9zZE7s/g2/obL/QoxpR/dVeOQ8f5+avZqx61sIC/yB3DljwrLT6ikv4Mjf2h4Y4UYUWTp+6tIItb8T20DAAAAAIC1CjH+6yfPzO7XR2Z+dm7Oz/3t9KfX6jdi9J99Xq8AYP90tW9vy7x8e2lu7dX9H9dm8WP3tR17u08hxra9819zc3nj/5Tz9cWx2W//nPbz5C8E3TUxxQKQPe7YLH5rjrO7/OfO3N5cmfOTmXmZ/MnrfkN5kV9Basbz91iKaY5r/5T0S3P87tYVPu5+W5g37ado7C0txFyaI1GkefPO/snuK3P6jxhvJZ53R92fLN/aNQcnPX++uokn/1PbAAAAAADgHoWY+m37b2f9fzVphUKM+kSIvDUX+/O/b+irST+8KfwYsL1tmZ3vFvknO/64NEd/Tv9sd3Kr/I6KNpSXxh/n5rUousQix/XbXd1nuNkf9533fjXJ/jWorrDT3tp46/Hc/vOgJ1fhtrVrjt5lGQMAAAAAAI31fiPm9tqcn7wxr1/tmJ3/2xUknn2xY/a+OTZnv5R+QWTNQkzj7pdTM3sV/1z1M7P96sic2x36Ci4rFmLsb71kfbzYN29cJ31uzdXpkdl/If6M9tafzM6Xe+b1T2fmuvwjKgVLFGIa6qtUX5+F32i5a2KYmb3416M+2zZ735+bm/80rVZ/NPfWLL7f6/6ykj1OftIm9NMbz83CzA/3xJ/J3jJ/2pma/R9XGTcAAAAAAJ+eB/ix3qchLcQAAAAAAAA8NAoxFGIAAAAAAMBIKMRQiAEAAAAAACOhEEMhBgAAAAAAjIRCDIUYAAAAAAAwEgoxFGIAAAAAAMBIPtlCDAAAAAAAwNgoxAAAAAAAAIyEQgwAAAAAAMBIKMQAAAAAAACMhEIMAAAAAADASCjEAAAAAAAAjIRCDAAAAAAAwEgoxAAAAAAAAIyEQgwAAAAAAMBIKMQAAAAAAACMhEIMAAAAAADASCjEAAAAAAAAjGStQszicGImE3mbmUXY9rBuzPzFxMwuwl08nPdzM51Mzfx9uL8it0YOx1kVH5WLmZm8mDcrvezmZCq2P77zQcdXsjAzsa5YJ9H953I495bO/0cned5yOamtr4HzbRnlNWzznM+njEcdp+LQa2Hcc8THXXptH8wllmLnc3qy7Irb/HO8m0cxx10sj/u5wZ0HIu7JPWMd97zq4Z6vwlj+3/3ec60+f0/3/XS7FpaZP/XcWn5evo+P6nlxiff9qz1/rWeTOeV1a9hK59Nanu5zzRjWLsTIE9G/sI9RjHn8kzn4JOWe6MYqXH3inmKuV7owfIpPbo/7zf6HM9Zcflr5H3wTtoFCTLEN+1jhjU3v64Nq4wOd16U34Rfz9j5vaBsbeE2pvkfI2t/sWnBvuNUcNu2fxPuPvxCz/vvOTY9tE+1t+jwfiOmB19aDKJ1vqz5nb+I5vpXn+F7Pixt4Phnb4DXOyjac08RDvW6NkYdRbPT8CJ7ic80HtJFCjE/yGAvo8U/m4Mn5BJ94n6ynmOuVnhSf4pPbB3qxefTGmstPK/+Db8I28SbEPc/onLrXgeY1Ubddyb2K4wOd1wO5eKg3tE/KBl5Tqu8RHvQN7FBbj/u5Ic/bKvFuemybaG/kmB50bT2Qwvm28vPQRi808xzf63lxA88nYxu8xlnZhnOaeKjXrTHyMIYHyc9TfK75gDZUiNELyE2s+7ilvaVPMnbfuC3dHtuR+8iFWZhM+yRb3FfIFoVvv2tHt6vjl/uF+C5se3F7bNe30R1XiEXF2tzaxb/EsUI8cew8+P19DDLufH7ivs0tvii5vMi+/H7+2DDWsG3VPuP+zb+Ssflbmvt2W+8TQpijk5D75KIlO76Yaz0mR71Il/qozbnX5SQek1hl/YV4FiKvKieleNt2mkfkcUmcWpK3uG/pjUHymO4jWWsqPkv3M21yW1pXztDYLbtP3Bb3Tfdp9YwxGJw3K4spxC7jEP2r8Tj5HPl8hmObm89f3M+vDdVXUViXJyEO22eS+/JaSM6BMA4Vn5DOtdxvlfzdyHxl+8ox25uep/I4lhtfnA+1r5yfJGdpLPp5tE86x/a+jaGQ63R+Yixqm25P7dfQ45b9hv7Ec1X3XB7317lVstcDLcYh5z0799t+9DZ/7NyNy6/rOEb/33hMug71WCuxW7XzKnvdqMxz3ziSx7s50WNQ66uhxtD0P2/yp/qLiu3HPMl40zmq9y+5uevdnq8fnfOkH7UtHFt6PpLjEuvfq8xDwsaut4c+21zottq+knURH4/rudU7v4me9iy9XivjKbahxxPj6z3fmiPkfKSvrcraa2vZ+Ylt6Zjq53PSXlgv9vxwx77NY1avOc2tbb82d6Fd31OM093x7jnvg/OUtN9uW6rfuCb65iiMZ+h9sTgmP4/kY3oNWmrOwvz0j08fq+arjU1YN6cNvZb6XxtiW2r/NNeVMeT99OdWsW2GfNn94porxt2Th3yu9Pz4scnX1W68tdxFan6aWznGwnwXxtUqrut43vWtY0tu64/5Y7S5rybJEyj824qLwvOJ7ju2mwhxUrlJjfeTJ1G1rREWSNd6VDqu6UfFJfpoFraKP42vvR9OSHFS5ydOwp1wIuZCG9m4Ei6mJo44nngytf0W8tKdLH4MKhdhPPlcJSf8Cn3qtjr6cT/2Ll/JPCkhT2p+B47Pcq3H5Ijxl/sYmHN1fLO1eaLpjo2SuFyuRBuujxBn2NaOKTxBl+YrbdflVsbSMwdO0+4syZvvM4m1Ide0XwdpTuvxdfPj25JPwCrGZcYu+w7bVx9jQ8XZbC3OWyOJyY9f9Oli6BmPk+Qz2d/mb+7a9vvJ8blciRi1sC5lX3JMrh+Rq2Z8/t/iHHBjS84HpYmp77lwxfzJON242vt+HHKNqH76xrHM+Bpxvrr2a+sgWctJWzVq3m1soU071theujbUfRWHXjP6uMqchPh17pr7bZ6SsZfE+Wrb7Li+ZH7cvl1+FodyPuy27r4/VubSx6Iec/Emcyfi0HlIJMfaXKjzSo2nPs+1cWTrLrSfri81d7LvkN/eOehpv/95od5/LrZX2idZP3Ffsa57n0/jsXJ+4loSj5XO/b55SNljZd50W42mP91WvW21nlyscns6vlRPe2ru0hhSaRv6vm9PHK9izONz+UhiUlZeW2n8+Zg7sS2xPTknB/MT1ovKVxZzaCdbZzKuJDd2e7Kmyzm18rxqeQ7q82RzKuJ328T9wvg0nyN1jGoj5F0+x8THshyFY+y/5f4qBj0+Nza5r2snyW0aW9w/6af3PULSpzWU0zSubE0Isa1uTgvro28M6fy07zPsvNbWScO1q9dzPe48D3kfhflZMXcpHUM8XozZ9Zm2p8eVydZ1WJPisfWfaz4+m/mx3jaZPtl6gmxCQ/LlAm/JhJeSL9vU7eeL1G4vT55dXHFf+29XQY6x2Lh6TuLak5STjGnw5EwXaLZgrVIeO+mJ408M2UZ9EesYQ1+uot7fxqp9Zvtby4y9dy4KORk6Pts+NH+lvA8ck+WhbOn1p+Lx1Hz1xtsX+3BslpwvPXdy/KU+kv1lfMW1XVknA2MvnVs61rqsr2Vyk8bkxiTXg85JHo/e3v/8UMhtMX/RwLrM4ozCce7/epe2V8h41s2flbaTbpdj6xvH0PjC48X1Ifvs+3dgjy/PV0KMSfbZ/TufXxWb6ntoTQkyl8nYYzsy/mpbgtuveW2vH1tYs62heSgf250fpe22zfKaW+m8Wmmek5yqfDfS+5Zt3411aIwFWXuFNuQ+1f5r7Ljs+zd5bLp+GoVcRXpOlzxWxrvSPPi8yfedaV5TOs95fDL+4pxUxp63V57rfN1LaRv6fn6s6KM074UxKquurZXmZ2itL5GfofUSpHkZnDvVro7j/vOex9M3Vi85vjiPUmlOZfuFvoptyv1q60xuK49D5izPnz0mHG/zWB1btGpOS3HZNsp95W01xBxXx+ByqWOLimtHytbRUNx5HvI+9D6lsa22HtP9y/uqfarnR5CtwUK7cp9Cm7bPan4/Ihv6alJkF4l+sfQ3v3BKi0ZPUL4QLduf3y739f/O+8oXkdNOtD3OTr79r++raz+w+6o2+0+UdAENnpzpAu1Z1LV2sjzaNlUbaZx5rlTbLqY0bwMn/ECf+Vz35E7E1N4K+YhjqM9Tcnya674Y2v4KfQwe02jjSPaT2mMG1l/adkOthd54bZxJHgZisu2qfdv5sm2FvNn+1OOF9mRMff9u6TbUOins3429NDfJ8QX9Y2zY/tzjy8xbJHLj6LjyeOT28hi8wrZs/UqFuUhjDee1HWPXrj0ufayizVG8iXjWyp/V5bA8f0kuiuNo9I6vZ31F9rgYk4jP7RvaU7fK+up0/arzuZ3DbsyRik3laWBN9c6JHrulYmmU893HtleJozJP/labh/K5YPfz57vvW49Tt9kpt+Xl21wspbZjfJVxdPMZZHMRbm4u8/mwuue0grT90tjkPtX+h7lctPsW4lXr0seu+mnndPhYz+7nYx+ch4TKmxu3zJPlcyXb6vKcx9etyZ71k82FlLZXGL9VzEFUb6OLLxJx9ua2EEO04tpabX7KObRtdOfzQH5KYyrMgc7LEnOn2pX7L3FsJh9HdZ4s157MoTi+2pdVzlv3vF4YQ8+ak+dPNy/2eNm+7K+/7+5YOa7u1sZjY3GP5e10Vs2p3T/vs6+PvK2GzbvL0RJjEPMn86yej0qyeRiKO89D3ofepzS2wfWY0PvnMThyLD3rS8nWdSEGsY+LoZSbdN4+UhsuxNhkl08GpziB8pjSIpATqCfTxtG3uHKhbft/gsPk2smfnix0zGmMakEV4kv2Hzw50wWaLVivNrbsRLNtqLzKOPMTII3R9XWYzo0e62p95vsX85K1UZOPY/D4LLdD81foY/AYwfWX7NsK7ay6/hoqd73x2n/39Z1L56M0X7bd+F+vlJ+GjSkeK+PL8t9IcqT6rY7d952uIbtdrUthaIyt2rxlMdl5lGPSOcn70NvTmDqF3Jby11phXbp9Y9tiHbaP9Ujb64tnpfw1ZDvFmG0uSu3JcUiF8ZXWVyT7TP/ds5aW4efW/k6DzFGIx/52RjLO/rVfWVNpvtSc6LFbNiaZr95zoIdcr9W1na2NoXkorPdG11/fGihb6byqzfPAOLLt9n4yr53SGP1j5VgbWf+FNuQ+1f6XoPrL149cb2mO9ZzWj23J/mrzUJD2b+93x+d50vvn8cn4i+unmtu0vdJcN6pjTNvQ91c73xrusWQOpOyYgbW10vyUx9/ldYn8DK2XIM3L4NypdnUc95/3PB7VRxZ/cnxhfFrenx5DIa89bdqxtvvFMWZjlf2V5sw/FnOm2qxxMfWtzRVz6v7d11Yub6sh1sTSY3BxdvsW146UreehuPM85H3ofUpjq+cup/fv2XfoPE1la7DQrtxHtv8J2nAhJkxq7yT5hSyP1fv77XJC9PZkMu3kVZ/ENBd3cyK0x7snoeZiWMSbLmJ3v+0jP1HSRTl4cvYsULUIB8aVxujHIXMu40xj1nMg29Kx6+NW61Pv7/6t9o382Kv5apWeIAaO78m1HmOT+za2Uh9p/hpizm+aCyyd22RfYZn1l64nS82L2q7j7c9zKh2nv5+twcNZMx69Dl0f6jGfw7YtFZ/fJufHjkX+nwu1rgbGnvXt5jeJu1Uf49LzlsVk983XlBq/2O5jTrfLvvRvWXTxNrL1KxVilrE2/07H7u+L40L+VJ+CmpuGzP9K+VN9+FjSc1CuEdfP0DiWGV/Dx6zzPbReu3alNO6CMNbiGrbneXKsyq+KQ45H76eOafjxxTWSz4PtW44nPV5RObV0PvJj9XyocbtcJPNQODY/Jjl3klz2SvqzsfeeV8m4lIFxDL+maO75Lmuvso562lexqn3q/WvNvuL3hSyd43z9dPlI4/D3uzntOVblOY21Mg8F8rXAk8en/fttui8dn1qT6TxnsaZ62lNzJ+MrKcXc3e87Z7rx6vjcWktiUlZeW0PxS2E9ZGu9628wP+1aE7KYC3kZmjvVbjLmTc173zylY0r7K4xP8zmS7bv++sbj+MfyHMl+7D7Ne9HD9HVJj2/w+Strt7P8e+MVc2rvqRzUuX1V+z6neg30zEGzrcutjiF/PkrYdpMY63H35EHsn57jeZ5Kj5XWSCfd391X+Sjkayj3D/pc8/HZeCHG8otF3NSi8Alvt6kJDQvR/t/Ddp/6ZPpF09deIjvhfCz5E1HX3rS5GNWLRZ8o2aJ0i8sem+wntPlp8+LH1Y5BxZjLTjTbZymP8mQVbc/i/Ll8yDhlPgptrNqn3b/Nh751Ofd9ym3lk7HvyaR+fJZrFU+TZzV/pT70uBx5jMthbK8v9sDtO7D+VDyeOt8G4q2fe4KK278g630LsQXpOafGnMWv58f/anrPuhoae0ONr9m3+leTamNU2yrzVhyPnMP6HPhPPBVylPVdWHturfY9F+g8OjLW5LzT55s4LsZSzKGeO/VcuGL+4i/su1vWl+5H5btvHEuOz6+v+FcF0n0bMmdW0m73/OjnRx2bCsdm+7hcJXPV6F/7ei2o/WpzkozdsmtRzo1uK5GNfehYGaf/d3usK+Km81A4Nv61D3fLc7T085lVXJM6l62BeW4fT8ZhtTH1zIm9yf7UGJpj7P3aOtLtF+J3seevI20fzS0bb5DlU679wvpR61LlN33N6D+2eu73zkOumDcXkz/GrbG2HfE+J2i3h/FkazJZP9VzvZG2px4Lt7558NKc6ftZfNla0POevraWrLy2lp6f0NbA+VzNj1xrgo65lJdGbe5Uu4Ux33Pe6/Pk/922v9TziRTmdIVrIi/pVx3j+XGkj+drSD1nNDGm52E6p22uk7zmMXZWy6mn4rK3Yv5iW5X3AI3eMSTrXx3Xbus5J4bWc7yJuNM8xHHHfavvn4Nlcif1thHjc/2GDVbPuFJ6XRdiWPu55uOzViHm4Qy/kABAlL4pwCOz5Is2PjX1N4f4CHDuf0I4nx8G10TAx45CDICnyf0fF54vHjUuxlDEhdtHj3P/E8L5/DC4JgI+dhRiADwNrvDyaX508cniYgxFXLh99Dj3PyGczw+DayLgY/fICjEAAAAAAAAfLwoxAAAAAAAAI6EQAwAAAAAAMBIKMQAAAAAAACOhEAMAAAAAADASCjEAAAAAAAAjoRADAAAAAAAwEgoxAAAAAAAAI6EQAwAAAAAAMJI1CjE3Zv5iYmYX4S4en/dzM51MzGQyNfP34bEat//Qvsw7AAAAAAD39eQLMTcnUzM5XIR7T9/icGKmJzfh3joean4oxAAAAAAAcF8UYh6Z+xdiFma27CdhVkIhBgAAAACA+9pMIeZiZibuqzDhFgsj7isvM9OVSWyRQB6btuW3x3ZkQcIVXNptvk1btOge6ysS+D7SY71QtLiIX+WJfco45P6WjrHYniyC2Ny8mDdRWHl/3fFpnP3FFJ0Lkaf2K0nh1vYrhRhOwpy5udJxl3Id42tzHPq6X9EIAAAAAIBPy/0LMa4II4sGfru/QC/tGy/+LVsAiBf69t9pUSa0mxZ0Lhbtvwc/EdMcO2uLBTI2y/fZFizaQoYuPqT7y+KD6z8ttFQLMaK/0L6Mf+gTMb5IInIR2izmrSjEoHImjunNtZjLkKeuTwAAAAAAsIx7F2KKhQNRfLCFg7jd/nt20lzEx0KE3S8WBFTBwmuPdRf+5eKCK0zUCjEJvX9atEgLL8n+hRh1G4UiSFaIqW3vyWdL5z6qjylV2i4e68117NvuSxEGAAAAAIB13LMQUy4MqE9VtIUGu699zP7XX+jbokM81hUT7Cc10lssMIRPYdjHZH/LFGLSrzDVihYyJku2X+5L5qBQ5NhoIaZwvDXUh1LanjxWzLUfp32sPz4AAAAAAFDzMJ+IsRfyaWHA/i6KKGhMTxZtQcaxxYSBgopn2+v6HyrEpPHp/fOiRK0QkxZNvK6wVGpvs4UYnfuWyl2hD6W0ve8Y+3jsL/btH6MYAwAAAADA6h74N2I8V1x4Me2OcYWaqSjWWPKiP9H00T2u+68XYtLChb+/diEmxJgVdtpxpGP3+2+uEBP6u/dvxKTbxWO9uZb/9n22cbpP0NT6BAAAAAAA1v0LMZYrxvivrRS/uuK258WDbD/xlRh/Cxf3yeP6ON+WfVzFFKnYpmZ2mBZWdAGhXoixuv7cTRWTGirWZsyq0JL3lxZiuuP7Cxu+GBP7SMdd6EMpbReP9eY6mfe4n43d/bvWJwAAAAAAsNYoxAAAAAAAAGAdFGIAAAAAAABGQiEGAAAAAABgJBRiAAAAAAAARkIhBgAAAAAAYCQUYgAAAAAAAEZCIQYAAAAAAGAkFGIAAAAAAABGQiEGAAAAAABgJBRiAAAAAAAARkIhBgAAAAAAYCQUYgAAAAAAAEZCIQYAAAAAAGAkFGIAAAAAAABGQiEGAAAAAABgJBRiAAAAAAAARkIhBgAAAAAAYCQUYgAAAAAAAEZCIQYAAAAAAGAkFGIAAAAAAABGQiEGAAAAAABgJBRiAAAAAAAARkIhBgAAAAAAYCQUYp6o27N9s/P5ttn589S8/OvUPN95Y67CtqW9e2OmXzw3z3anZu/V1Gx/9tqc3YZtAAAAAABg4yjEPEm35uybAzP75rmZvDo1l+dvzNHfL81d2Lqsy/95aWb/vW8mnx+Zxbu5Ofrx3FyHbaZp7fL7HbO1tWuOfwkPAQAAAACAe6EQ82TdmPmLidl525VOrLvzmXn5/cIVZe7eX5rz8/Py7Rf/0ZfF4ZaZfHNeKOJcmqPPp+boH1eGD8kAAAAAALAZ6xdi3s/NdDIxk3h7MTc3YdPNydRMT+K9x2RhZjLm5na/OH17H2Ssd+fm9eS5OXoX7jduft43259vmf2lv190bY6/nJj9f6T735qrs6NmfvfMm/NrCjEAAAAAAGzIeoUYV4SZmvn7cN9+OuMwFmL8JzVmF+7O4+LinplFuBuLSUvHejFTBacP6l9H5tnWgTkXH2W5eXdqDr7UxZmq30/N3mTXHP8a7kvvjszz6Vx8VQkAAAAAANzXWoUY+4mX/oKE/ZSILNI8HqW4F4fLf6LFHX/YlnEen1+Pzc7nB2Z+cf9Psdz+Y99Mvn3EYwUAAAAA4Ala7xMx9pMh8pMlkv2UiS12yK8uJcULV9CI29wtthWKOBfhWHtc/BTL0u31xNXIiy75p3fKsfn9usd8oSkvzOivPo39laXbs9fm2Re75vXP9/8cy+UPz83073weBgAAAACATVrzN2JiYSIverjixIupL8bYB2IhxW31xRD1qRRb1InFjFhskdvtY7K9UOyIxRPfX7d//ydceoouybG9sbl+9Sd9VF8h9q59HWcqL/iEm+z/Q/njyhy/2DKzf4X7AAAAAABgI9b/sd6GK1xMdLEhK2bIQkxSlLFUMaPwSRtfsJCPiYJK1l6t+KE/rWJvqmAzFFu23cbRFWbcuJNP6qjjn4xL8+aLLfNs903zLwAAAAAAsEn3KsRY+lMl+adO5A/cun1VsULvb7enhYu8mCGOcYUbWVyp/DaNKvLkBZuh2PSnYxqqMFMYd/Gx+9PjHfcGAAAAAADu596FGFWQKHyqRBY4sqKKK47E4smSxQxRUMmLJ/3SfdP79dh6trcFqPxrSz4X/YUh13+h2PEovpoEAAAAAAAexMqFmMWhLi7YAkVbPFDFCUsXUnTxI3xVaLCYIQo77r4ozAwUO6RyoaVrux5bXhDS+/vtXfv+viz0AAAAAAAArP6JGFfAmBQ/wWGLE6rYkRVXQoHD3WZmIQs3tqiiijiNtK9C0SX9ZIn+RE1U+GTNKrE12n7iYzG2tHgTbjoPAAAAAAAAm/hq0gPSnzoBAAAAAAB42h51IcZ+naj8CRcs6+b8jdl/sWN2voy3l2b+a9gIAAAAAABG9YgLMelXh7Cq65OXZuvFG3N1e2euftwxk6/PzG3YBgAAAAAAxveoPxGDe7g7NwdbE/P6n3fu7vXbpBDzx7mZ/eXILP4I9wEAAAAAwIOjEPOxujk1L9tPFF2b490ts/+PUIZ5f2r2v3hutv7GJ2QAAAAAABgThZiP1p25/HFqpofH5ujV1Lw+uWoeCd5fmtNvd8zz7y/DAwAAAAAAYAwUYj5J1+b4y+fm4GRhrvlIDAAAAAAAo6EQ8ym6PTOvP9s2u9+cmuvwEAAAAAAAeHgUYgAAAAAAAEZCIQYAAAAAAGAkFGIAAAAAAABGQiEGAAAAAABgJBRiAAAAAAAARkIhBgAAAAAAYCQUYgAAAAAAAEZCIQYAAAAAAGAkFGIAAAAAAABGQiEGAAAAAABgJBRiAAAAAAAARkIhBgAAAAAAYCQUYgAAAAAAAEZCIQYAAAAAAGAkFGIAAAAAAABGQiEGAAAAAABgJBRiAAAAAAAARkIhBgAAAAAAYCQUYgAAAAAAAEZCIQYAAAAAAGAkFGIAAAAAAABG8vQLMRczM5lM1G16chM2GnNzMjWTF3PTPVKyMLPJ1Mzfh7tVN2b+Qvc3WfrY+yj1O2siBwAAAAAAT8XHUYiRhZb3czOdTMzsItxfyuqFmNXa34S838XhZIkiU+DyQuEGAAAAAIAP6eMrxDRsgUJ+KmbY0yzErFRcoRADAAAAAMAHt0Yh5tqcfrVrdr7YMjvfzc38m6nZ++ql2Z4eN1s+gKFCTLLdfVUp+2pPUogJX3cqF1sqhZjQ19x+UkUcX+4zsn3HbbUC0jKFGN1WO+4wnvZ2GI/wbeaPAwAAAACAh7ByIebu/MBsNxfs567YsG0O/nllzv621fx71xz/GnaKfj83BzvNtq2pmafbrLtLc/zVntlb5vbtWVtMUdJCjCs6iOKE3J4WLi4W4d+iEOOOr306ZqAQM9Hb0t+ocffbgocvnHT7JwUhJe3X31eFm6Z/3ZbYPyvapMdXxgUAAAAAADZi5ULM9dmRmb+7MvPpxEx2/adgbv99bs4vrs2d36V1/XbHTL7YMwffz83lH+HBTQvFj95PdWSFmFKhIxRALvq2S75gofqUnzyRRaFiccP2FQoi2f7NESfTnk/FpP0Oxdn0JD8ZlBZissJMw8bDp2IAAAAAAHgw6/1GzO2Z2Z9MzM4Pl1nxpXNrzr6emK3vLsP9B6KKGeknTBppscMVIHwxI/30iH6sT+WTI1lhpWtX33wRRX9lSdyKxRDdb/pJGy8vEvUWYmysYr/2lrUJAAAAAAA2Zb1CTHMRvzV5bmYXfWWYKzP/amp2tibmT3/eM3tve4oxY381SZFFG/vv+ImYoWLMKoUYu2/lkyt2/6U/gZL26+/Xvlo0+IkYii4AAAAAAIxqrUKM+8rRZN+c1b5u5D4189wcvQv3H0qh0OL+rHMscMjtzb/TQoa/HwoxtmASPjFTLLQ4ecGjVYil/MmVSBaDhhT6dbHGQo8Yg+Pb7i3EhPa6Qg4AAAAAAHhoaxRiwleO/nraU1wI/mU/NfPanPd/d2kzCsUPVYSQ20ORJX4NpytCJEUMe4zdZ4mvCCnFWJrWw19Ram+y3SSm/t9+Kffrv97kCyz6q04zM5OfiGm0cbT9+zx1xyxbFAIAAAAAAOtY76tJf9ya24ECiysKfPmB/qQ1AAAAAADAI7ReIWYJi28nZmvp3z8BAAAAAAD4+G2+EPP7pZn/dGRef7llDh78e0kAAAAAAABPx8YLMbdnr82zycQ8e3XK15IAAAAAAACEB/tqEgAAAAAAADQKMQAAAAAAACOhEAMAAAAAADASCjEAAAAAAAAjoRADAAAAAAAwEgoxAAAAAAAAI6EQAwAAAAAAMBIKMQAAAAAAACOhEAMAAAAAADASCjEAAAAAAAAjoRADAAAAAAAwEgoxAAAAAAAAI6EQAwAAAAAAMBIKMQAAAAAAACOhEAMAAAAAADASCjEAAAAAAAAjoRADAAAAAAAwEgoxAAAAAAAAI6EQAwAAAAAAMBIKMQAAAAAAACOhEAMAAAAAADASCjEAAAAAAAAjeaKFmBszfzExk4m8zcwibH0U3s/N1MU1NfP34bHWE4h/HdUxF1zMzOTFvMnGU7Ews2XHBgAAAABAwZMuxMwuwt3G4nCy/EW9Kxg8ZOEjj0+7X/w3J1MzOXxsZZuhMfsxTk/ECEcpxGyyeEIhBgAAAABwPx9NIWal4sqDF2KGLtjvF//jLMQMFykoxAAAAAAAPnVrFGKuzelXu2bniy2z893czL+Zmr2vXprt6XGzZSzLFDLsRXP82o/4tIm9+JePtwUN32b+eJkrhoh22gKDi0O0Uyw0LBG/irO7+HefnBHtuzYKRRxVrAkFj3k41h0THlvIcTzYmJPcxvEsEYPus1ao0vPtYqvE1TuWKFknfq6SQkzYR80jAAAAAAAVKxdi7s4PzHZzsXzuLuq3zcE/r8zZ37aaf++a41/DTkPen5mDr/bM3jK3t5fhICktZPj76actuu3+Ir29nxUu0uMLhRLBX8TnRR/dX+2TEwPxuwv8pCiTFhFkwWKZQkxaMAiPtX2GosXDjbnZo/SJmEoMrs/auAXd9o1ZXMR/53ENjiXNfxPX3G0Tbbl96uMFAAAAACC1ciHm+uzIzN9dmfl0Yia7/lMwt/8+N+cX1+bO7+Lc3d6au/+EOxvnCxf2It7fhi+I1YV6WrgoFDLchXbxor9cpNFFgqGiRD3+rGDh9u/2yQoShfjVPnYs6adUCo/l/UabGHOh/WoMpT5tH8k8Bfa48nylcQ2NpbzdC21d2HzXxwoAAAAAQMl6vxFze2b2JxOz88OlKr60fj81e5Nn5vXZbXhg0/TFsruITgsNYZ+u2FEpxLhPN+h93S1r0+opOKiiwlBRohZ/Hne8qf1HLcRsYsyF9qsx2PZKeejvwxVj7D6qzTSuobHUxtHFVC7UAAAAAABQt14hprlo3Zo8by5Gi2WYYQ/+1aR0u79I7y3E2PtJQaBf3rZjL+SX/nRIPX4ba+1Cf/xCzCbGXGi/GoPts95eH13YSuMaGkvPdie05T4RU58jAAAAAABK1irEXL/dMZPJvjn7Izwg3DUXtC93ts3WX0/VBfZmFS6WXTEiXnCnF9/2fqUQE9orFyFy7kJfHe/b7+JJ+08NxG+LAklhRcoKMWn/rq3JBgsxmxhzof2BGHRBpabJ56HYT7WbxzU0lmx7k8/sN2JCjtUcAgAAAAAwYI1CzK05+3rSU2i5Msd/mZn52+ZC9vMjU/osy2aUP7UgL6D9v8NXVZrHZkkRwF7wu23qEx1xf3+rXWTr9tN9h4oSq8bf3FRBoou1bcMVb7p93V8i2mAhxrrfmBuxQBT3WyKGdp7iTRWgOno/WWQRcYu+6mNJt8dxJWOMOe+JCQAAAACA1HpfTfrj1tz2fivp2hzvTszO2/H+mDUAAAAAAMBTsF4hpubXY7M72TVv3s7M/s/9n64AAAAAAAD41DxAIWZuplvbZucvM7Mo/IYMAAAAAADAp2rzhRgAAAAAAAAUUYgBAAAAAAAYCYUYAAAAAACAkVCIAQAAAAAAGAmFGAAAAAAAgJFQiAEAAAAAABgJhRgAAAAAAICRUIgBAAAAAAAYCYUYAAAAAACAkVCIAQAAAAAAGAmFGAAAAAAAgJFQiAEAAAAAABgJhRgAAAAAAICRUIgBAAAAAAAYCYUYAAAAAACAkVCIAQAAAAAAGAmFGAAAAAAAgJFQiAEAAAAAABgJhRgAAAAAAICRUIgBAAAAAAAYCYUYAAAAAACAkVCIAQAAAAAAGAmFGAAAAAAAgJFQiAEAAAAAABjJR1CIWZjZZGIm7W3WPDKOm5OpmRxusLf3czPtjf/GzF/IcYbbpvp3fU/N/H24vxI/B7OLcPdDcPHbnCw5houZmbyYN1ndENveQ8yL4tfAB80zAAAAAOBennYhplQ8uJi39xeHEzM92dilduZDFGL0RXgszoxXfHKqcX4IwwWKbC1ssBDj1kHS1uIk3rdFqnULXCkKMQAAAADw1D3tQszAxfTHX4jxHnqcmUdXiBkudjxkIaaefwoxAAAAAIDO+oWYm3Nz9GrbPJNfxwi3vdPbsNMDK30ixomfFIm3uE/6uCgmhAvzhS2uxO1pkUV9/WRm5kkhxhVm2u3ygjlcjJ+E49tj/Fd62v1P1ivE5EUF3W4sEpQKBt1jScFAjVUclzzux5LHluZC9btMrhO97bk10D2eF1d61sISMeg++wtPbr+s30Yltmp+rORYvz3Jc9gnOxYAAAAA8GitVYi5ay5id7aemen3Z+bq5sZcvn1ptpoL3ON/35rb21tzF/Zr9mzud/dSN/84MHtf7S11O/5XOCgVCwOFC+Gs8NBcuM7a+/6itt0e2mnvh4vc9qLXbRcX4/FCub14b9o7TC6025hCYURd6PvHuuJFLBisUYhxscTj0nZFgSUUH2KM+XFdIWZxKOIojl3GqWPzRQa5PYlpKNeJwfbcfVFEKih+IqYSQ1pccfcrxSLbvmqvlcc2OB4XizxmYeauXZHngZwBAAAAAB6nNQoxl+boi4l5/s25aT/3Ei4KX/9TF11uT/fM5LPX5myED8j4i1t9IVz6BIikLq7TIkVDHl9qq3px7nISL7YLhYJCf/qY1JKFmEK7Nk4fu45Dx18rZiTbsjhlbOU4V8m1tkR71di9rP1qDKU+bR99cxP54/QPBqexDY9nOBe2zbwNAAAAAMDjt3ohprmA3Zo8by4CRdHFPbZjjt71f/plHPoCtXRBax+zBZv2tlRxYJliQMO2IduuFGKyY611CzEidteuiiHcQl92ezemSsHAxSLbSLf1FWLysToyv9Vcp5Zor28fIWu/GoNtT469kIMa23bv3A+NpzLPYZuNpZwrAAAAAMBjt3Ihxl/o75uzP8IDjcvvn5vJ7htz1dZh7sziu5dm54st8/Ln/gvGjXw1KSEvuNOL7/S+KoYMFAfSYy37WO/xqlhRuPgu9Kcv4FN9F+jJ47aNtMAj2bhsv/G/4WEVY1ZoSeKvFmJ64pRxFcZeyq+3RHtpfAVZ+9UYbJ/19upkPGlsw+MZzoVts28fAAAAAMBjtvonYt4dmeeTPXP6e7j/23FzUb5tDv4pvn/0y7F5+d3cHDcXjc9/uAwPPoDm4lVf0PoL1PiYvqBNL4D9/WWLA74AJYoPrhjRHa+KOg29f6FQEI7P4lmpEOPHK/tNc5Cz7UzN7DB+MiYSMaa5sPdl/NVCTDp2K4lpINepwfbc/SS/iaz9ZeY72d5H/Z6O5fIVH8tjWyo/6pjCb8SEY/pyBgAAAAB4nNb4jZg7c/njntne3TMH3+yZnVdH5uzXwo/A/Hpsdic75vjXcP8hxGKIuHUX5412uygwtPv6YsSyhRjLX0CH45t93V/caYsg/sI4bp82F+fVT8RYKv5m+0Va4JBioUbeCm1aWV70fnkhwJIxJn01Y0njt7nx22wruhBjqVw1NzUvS+Q6VW2vL79SaS0MxNCOMd5UwauTxpbmtt0u+quPp6HWatye5DmOKRkHAAAAAODxWqMQs5zrn3bd15WOv9s3p7ULZAAAAAAAgE/EwxVi/j41W1/smJffLcSfswYAAAAAAPh0PVghBgAAAAAAABqFGAAAAAAAgJFQiAEAAAAAABgJhRgAAAAAAICRUIgBAAAAAAAYCYUYAAAAAACAkVCIAQAAAAAAGAmFGAAAAAAAgJFQiAEAAAAAABgJhRgAAAAAAICRUIgBAAAAAAAYCYUYAAAAAACAkVCIAQAAAAAAGAmFGAAAAAAAgJFQiAEAAAAAABgJhRgAAAAAAICRUIgBAAAAAAAYCYUYAAAAAACAkVCIAQAAAAAAGAmFGAAAAAAAgJFQiAEAAAAAABgJhRgAAAAAAICRUIgBAAAAAAAYCYUYAAAAAACAkdyvEPN+bqaTiZldhPsfqcXhxEwOF+Ee7uPmZPoIcrkws8nUzN+Hu/dm22vWSHubNY94j2O8PcL528Xd3O4Tq2tvM3l91HlT+uf+oW08R27++uN3z4NqrM3txdzchO33cq+14+fgoV6HXJ43Nc5HbuNr6mKm10vb9qafgzcsjbu5TU/WXwGjv4cYOJcBAMCHd69CjH1zMTts3rCM+Abj6VygoeRDzF/e5wYvAkoXkBfz9v6jXq/Zm3V/QbvsBcdDju3ebY9xITIw9/b58T4Xb0M2nv+BnJXG44szI19QjzG3n4T8eXCTa8q1lRSwFifx/hMoxMjY3Zpbttj3CMbGOQIAwKN3j0KMfbNhX+jHfdPxkBd/eHgfYv7yPje4ZtM37IlHvV4Lb9ZXifchx3bvtse4EBmY+0+hEGONvsa5yNyQ/Hlwk3NZX/+PoFhRUzi3lz+fH8HYOEcAAHj01i/E2Dcq4Q1b6Q2Ke0PXfqy37w1BeMNy0rRl92vfANrH47Fd27afrs3wf6cGLyYLfYQ3WQsZY+XNZ7G9C9tvjCUZn4spbovx35j5iybmk7CtfZPnHy/HofOg3xiWc2TVcq9y2HsRuWzb+bxnbK7b/WfNPMhcWskYs7XSH0ua59L/rSyuGdfmwByquCtvql0M/dvj2pFxqDGofgq5PpyH9WH7CGvoQq+ZdNy1+VcGz518vmNf1bymF3Ziv8H1EsQ41PFpXGodxdw0/0xyqvcThnLfbuvJYe/cJ+d0u0/6uGx31TWZn0tprrt1EXKTPffoc8tv718vds6L85eto/I5Wzq+eyxdO7qNNubi3Iq5j2prwG5r2lv2+T/uH0YxPE8hnrbtcKxfs/J8Luyr4ujJgVPOsaPGLnMqJM+dOsbK81VjqXOj4fZTMUvDeexfz+FY9b4hPPZe5iUdey3XCTXnnl6/SVsx9oG8dvT86bHH9VwbS0q3l5/LA2NPzhf1fJ6+P6utr6QduXb6100ltiSf6hwHAOCJW7sQY9+UtC+K6ZuW9I1584YiedkPwpuHwhuU7E1XeLHP3tBkFwHpPoU+wpuF9k1CeLHve5EvtteON7yJiNtdW/LNyaJ5I+Peivn91Js7/1j65k7mVeeh25a+KVw0F+fuXzZW0YeKPZmnm2Ze4r+latsq1+lcJVyexf7xTVWSy+zNWhtj2r69H3Ob5KrZtuiJQ8+f5dvtncM07iRvGbd/Oreez5meU/nmdXGY9CP69cfKtRTilI8l603nL9xXYxfScydbu01/zYWjaqvatpyfsH2V9SL4Y/NzI97P+07WQzq2gt7cp8f2Pn81KnOvz6NG0+6sZzwxN107Ya771qSLUWy3+/fOVWhLxZjORdinkrNsPC0572m7Ypsdg4xB5Vm20Wj21W3U5tbH3m53uUrWscx1mLP2fshl119Cxe1j6Z2ntK9G/DqOX9OVuMJ9OY6+HPQ9R/uxybWb5FxJct6I511fLvW6CvfVeajZOPV5HC2Rx971HI5V/YbH0rG39wdynUrzluZ18Fwu5LWN18cqc6LHF3Ih+nN5lPEovr1uLOnxA2MvjG3uthXynO6b5Gn159RabEmczRF9r/EAADxF6xVisjfCyRsPt12/ESnL37CkL+yWfZMSX6izN35ZLOk+y/XRf5GxWnv97aRvKhqF2F1bcnyCbNu9Mcv2K/Th4g19yDdGFcu3neZGK+VC7V+YBx9vyG9huz3et+nj6ZszKY9x1Tm0fSX7F7h+Sm+wVd/lPHo6rmWP7eItbRfzn3Lrz75hD7dsLhLJeq3ntRxrfkxZcT8xR4O5KZ1bVSJ2d+zwfEsunmTuS+tf0mNYdU325ChS4y/MRencG8hZ/3hE7NVzVo9xcPyC6juLU4+vGKeMqxBjda7U/vV5KrUdZfNVyrc9vmdOZYz236X98nHY3PTlNR9LvqZkbgvryLUxdJ7543QRaiCPKZWr0lopPSbiXTHXbpt8buzbLxhay2p7cZzymEKea+dmqT25f3XspTmN8nGsvb5cDIX9loit97wEAOCJW6sQ495UyDcppTcr7gXWP15+kbd63rDINuMttJ29USy8kA+9KSq9cam9EV++vdqbmsI2e1xprG1s/hi5Tcbo3oyr/W1sen9/E/G2fRbeFAnltgvHFHLplXMhc5nNpdMd57arcYRbe4zIT9ZOJ+9neA6zPptb/zqW/BzEffO+k7yI88TfurgGjw3sfn5dLDH/kjp3fNvZOZCt0e5cq+d11fWi5W03bLzh2OXymrzBT1VyL7ctN++WnvvSc0p7XsVbO4ZCvpI1WZp3lYPeucqP781vJWe9z5HiONeuiiHcQl92u2/DxiTHm47fxyzbaPvO4pTjK+dKHVNYg71js9T+tXny48vyGgzPV7i1fVVy0Mifo/P94y3Lh5OPJY9f5tOv77z9JB993HjjvNXz6GT5qRxbfKx5tMmRi30w1wkVix93msNVzmWZ1/IaGVjDlXOz2F663mWc8ebGV86bl25bYn25fuU2cbzY1u4/OC+izyxnAAA8bWsUYgpvEqzeNwrlNzFe4U2AfWGuvOBmbzoK/ep9evpI3oDV3oiv0l5/Oz1vrpI4Ovn+fW27+Fw79pgktj4ub8P76rYL81iZr1K87s1r3L8wD37cIa6BtSCpdhPZmlliDsvrdTly3HnfIo/Z2tVxVY8Vuv5WmH8r7T9dE+n8JPvX87r6epHythsinsHcZLlNDOS+Yx9ffj3IuZf/ttL7egzDa1Iea9nH2uOrc1WYi3R/yz5WyVkpBks9btuoza+Ny/Yb/xse1uPP41V9ZHOn9y/GKfsrjL1vbI7avz5PpbajbM1mOZAGciC4dkM7dp9l12ppLPXzyv67dI4sS/a3Yh7VnBeOLT4mYq/muiDt394Xay6di6FzWW0vrhGZ23zu8zUvlNqT8a64zjr5OKrrK4uxNCeWfXz1ebF9V59bAAB4YlYvxPS+IRAv6M2bgO7FerUXevUiXZC/UUz2d/HJF+xCH4U3Ln1vcq2hN1mqPfcGSG7XvxGjx+UfK/eb9uPH6fdtjhPfn5f9u1h73tjcnMyS9tLcWwNtZ2+0BuZK7l+cm8Ib2jb+WvvNNrEO9Bxp+bbC2LM5LK3xgmZfHZ+OOe9brAPZp+X67eLqOzY/potV529A4VyWx6f9u/tpX5W8pvvr3Ig8FPhj8/Xf7l8at9ze+zwV1HLf/LuLqxKn2s/SMernlLSdMJdt/nTuHBFjlsvkXErnQu9fGEM4PounkrP8OTIco9ZbMk8Ze8y0OXe7r5t6cvxpLnyb7f7Z3Cbjk3Pp+O3t8SKvUe35X+9fn6cs1ob6jRh1viRxKbUcNMf1PEf7sVfWvZKPpS/GmFu3PcldH/V7IZaKrZ7H+nouHOsek+dTGmst1wVqTr2uEKBzEu93fQ/l1ccqYynFqs6h2vPZ4LlcH7vObaNpr/uNmMIc9cWR5sztG45v/p3G5+/XYmv6T+dT5H/puQQA4JFauRDTvRnJtW8mwhuD+DHT/hfMwgu9lRxfuiBTF13uBT/s2/Tv/hpG5U1R9oahUXsjnr+JGmhPxtPGKd98SN149P6h3/bx5o2MiNHNg9gmZ0Rva24x9mJcuVrbOqb+NiK1fzY3VjL+ZF7614LPZ+9xSrpmhucwHWdv+1l8Oid67Vj5m9D22ObCRcbVe2z86zfuloyj0Tv/KRd7+qY6xOSO0XMzbeLT+w/ntX+92H173tA3/NjjX5gJ/Sfnpxzn9GQh8uq124vjr+R+2eevgbnvtod21fnnixFdbCuuyebx/Hkutp3OlVxzgoq/6dv9BZv+OcnWVXPL2rSyvJTWRNqPHr9eN/q5z9JzWxhf8lyn5jDJq2Xb651ntf/wPPl9ur7jHPk1nWY32be5xXHUcqDnQudSH9fckrFK7b5hnzzGPLfZOsjG5GVxqDiH8qjzotdz4dj4WPwLP1l/Vn+uM4U1Eo93c2C3t+2k5/IyeU1iUX0V1rM7p9LxCIPncn3seq5ibkNOVZ4L89rGvu5zal9sSXtJP73nKwAAT8R6P9YL4AMovEF/qpoLGd5IA9iMctEAAADgsaIQAzwZH1EhBgA2hkIMAAB4WijEAE8GhRgAyFGIAQAATwuFGAAAAAAAgJFQiAEAAAAAABgJhRgAAAAAAICRUIgBAAAAAAAYCYUYAAAAAACAkVCIAQAAAAAAGAmFGAAAAAAAgJFQiAEAAAAAABgJhRgAAAAAAICRUIgBAAAAAAAYhTH/HwhK9N2/B22fAAAAAElFTkSuQmCC)"
      ],
      "metadata": {
        "id": "V2-ubhXfMcWk"
      }
    },
    {
      "cell_type": "code",
      "source": [
        "# Return the index of the largest Sharpe Ratio\n",
        "SR_idx = np.argmax(p_SR)\n",
        "\n",
        "# Find the ideal portfolio weighting at that index\n",
        "i = 0\n",
        "while i < num_stocks:\n",
        "    print(\"Stock : %s : %2.2f\" % (port_list[i], (p_wt[SR_idx][i] * 100)))\n",
        "    i += 1\n",
        "    \n",
        "# Find volatility of that portfolio\n",
        "print(\"\\nVolatility :\", p_vol[SR_idx])\n",
        "      \n",
        "# Find return of that portfolio\n",
        "print(\"Return :\", p_ret[SR_idx])"
      ],
      "metadata": {
        "id": "2-1fd0lMMpAw"
      },
      "execution_count": null,
      "outputs": []
    },
    {
      "cell_type": "markdown",
      "source": [
        "Find percentage closest to 1 and use it as the basis for calculating all other shares Since CBRE is .6 : CALX is 7.25 : Multiply cost of CBRE (105.64) by 7 and then divide that by the cost of CALX to get the shares to buy for GNRC\n",
        "\n",
        "105.64 7 = 739.48 / 64.28 = 25.49 (11 Shares) 64.28 = 707.08\n",
        "\n",
        "In situations in which prices don't work either discard stock or force 1 share"
      ],
      "metadata": {
        "id": "TKhIJVYgMjwJ"
      }
    },
    {
      "cell_type": "code",
      "source": [
        "def get_port_shares(one_price, force_one, wts, prices):\n",
        "    # Gets number of stocks to analyze\n",
        "    num_stocks = len(wts)\n",
        "    \n",
        "    # Holds the number of shares for each\n",
        "    shares = []\n",
        "    \n",
        "    # Holds Cost of shares for each\n",
        "    cost_shares = []\n",
        "    \n",
        "    i = 0\n",
        "    while i < num_stocks:\n",
        "        # Get max amount to spend on stock \n",
        "        max_price = one_price * wts[i]\n",
        "        \n",
        "        # Gets number of shares to buy and adds them to list\n",
        "        num_shares = int(max_price / prices[i])\n",
        "        \n",
        "        # If the user wants to force buying one share do it\n",
        "        if(force_one & (num_shares == 0)):\n",
        "            num_shares = 1\n",
        "        \n",
        "        shares.append(num_shares)\n",
        "        \n",
        "        # Gets cost of those shares and appends to list\n",
        "        cost = num_shares * prices[i]\n",
        "        cost_shares.append(cost)\n",
        "        i += 1\n",
        "        \n",
        "    return shares, cost_shares"
      ],
      "metadata": {
        "id": "SOpRsdm0M1Ug"
      },
      "execution_count": null,
      "outputs": []
    },
    {
      "cell_type": "markdown",
      "source": [
        "Get Portfolio Weighting\n"
      ],
      "metadata": {
        "id": "AfmIfWlQM3ta"
      }
    },
    {
      "cell_type": "code",
      "source": [
        "def get_port_weighting(share_cost):\n",
        "    \n",
        "    # Holds weights for stocks\n",
        "    stock_wts = []\n",
        "    # All values summed\n",
        "    tot_val = sum(share_cost)\n",
        "    print(\"Total Investment :\", tot_val)\n",
        "    \n",
        "    for x in share_cost:\n",
        "        stock_wts.append(x / tot_val)\n",
        "    return stock_wts"
      ],
      "metadata": {
        "id": "r6hzR305M4Yx"
      },
      "execution_count": null,
      "outputs": []
    },
    {
      "cell_type": "markdown",
      "source": [
        "Returns the Value of Portfolio by Date\n"
      ],
      "metadata": {
        "id": "nNCKyA79M8RH"
      }
    },
    {
      "cell_type": "code",
      "source": [
        "def get_port_val_by_date(date, shares, tickers):\n",
        "    port_prices = merge_df_by_column_name('Close',  date, \n",
        "                                  date, *port_list)\n",
        "    # Convert from dataframe to Python list\n",
        "    port_prices = port_prices.values.tolist()\n",
        "    # Trick that converts a list of lists into a single list\n",
        "    port_prices = sum(port_prices, [])\n",
        "    return port_prices"
      ],
      "metadata": {
        "id": "PixW1aDBM-Ex"
      },
      "execution_count": null,
      "outputs": []
    },
    {
      "cell_type": "markdown",
      "source": [
        "Approximate Portfolio Weighting Based on Request\n"
      ],
      "metadata": {
        "id": "cjSKx45VNAQc"
      }
    },
    {
      "cell_type": "code",
      "source": [
        "port_list = [\"CALX\", \"NOVT\", \"RGEN\", \"LLY\", \"AMD\", \"NFLX\",\n",
        "\"COST\", \"BJ\", \"WING\", \"MSCI\", \"CBRE\"]\n",
        "\n",
        "port_wts = [7, 8, 15, 14, 3, 3, 17, 6, 11, 14, 1]\n",
        "\n",
        "# Get all stock prices on the starting date\n",
        "port_df_start = merge_df_by_column_name('Close',  '2022-01-07', \n",
        "                                  '2022-01-07', *port_list)\n",
        "# Convert from dataframe to Python list\n",
        "port_prices = port_df_start.values.tolist()\n",
        "\n",
        "# Trick that converts a list of lists into a single list\n",
        "port_prices = sum(port_prices, [])\n",
        "\n",
        "tot_shares, share_cost = get_port_shares(105.64, True, port_wts, port_prices)\n",
        "print(\"Shares :\", tot_shares)\n",
        "print(\"Share Cost :\", share_cost)\n",
        "\n",
        "# Get list of weights for stocks\n",
        "stock_wts = get_port_weighting(share_cost)\n",
        "print(\"Stock Weights :\", stock_wts)\n",
        "\n",
        "# Get value at end of year\n",
        "get_port_val_by_date(E_DATE, tot_shares, port_list)"
      ],
      "metadata": {
        "id": "3QE3yFZHNBEh"
      },
      "execution_count": null,
      "outputs": []
    },
    {
      "cell_type": "code",
      "source": [
        ""
      ],
      "metadata": {
        "id": "p2zS3q2HNBPD"
      },
      "execution_count": null,
      "outputs": []
    }
  ]
}